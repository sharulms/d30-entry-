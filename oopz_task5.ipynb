{
  "nbformat": 4,
  "nbformat_minor": 0,
  "metadata": {
    "colab": {
      "provenance": [],
      "authorship_tag": "ABX9TyP6vpQrFTHWI3cGbkIS4MOU",
      "include_colab_link": true
    },
    "kernelspec": {
      "name": "python3",
      "display_name": "Python 3"
    },
    "language_info": {
      "name": "python"
    }
  },
  "cells": [
    {
      "cell_type": "markdown",
      "metadata": {
        "id": "view-in-github",
        "colab_type": "text"
      },
      "source": [
        "<a href=\"https://colab.research.google.com/github/sharulms/d30-entry-/blob/main/oopz_task5.ipynb\" target=\"_parent\"><img src=\"https://colab.research.google.com/assets/colab-badge.svg\" alt=\"Open In Colab\"/></a>"
      ]
    },
    {
      "cell_type": "code",
      "execution_count": null,
      "metadata": {
        "id": "uihbFwAB7dyi"
      },
      "outputs": [],
      "source": []
    },
    {
      "cell_type": "markdown",
      "source": [
        "1.Write a Python program to create a class representing a Circle. Include methods to calculate its area and perimeter.\n"
      ],
      "metadata": {
        "id": "ftGb5lXx7nTV"
      }
    },
    {
      "cell_type": "code",
      "source": [
        "import math\n",
        "\n",
        "class Circle:\n",
        "    def __init__(self, radius):\n",
        "        self.radius = radius\n",
        "\n",
        "    def area(self):\n",
        "        return math.pi * self.radius ** 2\n",
        "\n",
        "    def perimeter(self):\n",
        "        return 2 * math.pi * self.radius\n",
        "\n",
        "radius = 10\n",
        "circle = Circle(radius)\n",
        "print(\"Radius of the circle:\", radius)\n",
        "print(\"Area of the circle:\", circle.area())\n",
        "print(\"Perimeter of the circle:\", circle.perimeter())\n"
      ],
      "metadata": {
        "colab": {
          "base_uri": "https://localhost:8080/"
        },
        "id": "mTS1k1gb71lf",
        "outputId": "2da1aee3-93be-4449-d3f8-9bb5272638c6"
      },
      "execution_count": 2,
      "outputs": [
        {
          "output_type": "stream",
          "name": "stdout",
          "text": [
            "Radius of the circle: 10\n",
            "Area of the circle: 314.1592653589793\n",
            "Perimeter of the circle: 62.83185307179586\n"
          ]
        }
      ]
    },
    {
      "cell_type": "markdown",
      "source": [
        "2.. Write a Python program to create a calculator class. Include methods for basic arithmetic operations.\n"
      ],
      "metadata": {
        "id": "s3cyp2bW778a"
      }
    },
    {
      "cell_type": "code",
      "source": [
        "class Calculator:\n",
        "    def add(self, x, y):\n",
        "        return x + y\n",
        "\n",
        "    def subtract(self, x, y):\n",
        "        return x - y\n",
        "\n",
        "    def multiply(self, x, y):\n",
        "        return x * y\n",
        "\n",
        "    def divide(self, x, y):\n",
        "        if y == 0:\n",
        "            raise ValueError(\"Cannot divide by zero!\")\n",
        "        return x / y\n",
        "\n",
        "calc = Calculator()\n",
        "\n",
        "result_add = calc.add(9, 11)\n",
        "result_subtract = calc.subtract(9, 4)\n",
        "result_multiply = calc.multiply(2, 7)\n",
        "result_divide = calc.divide(15, 3)\n",
        "\n",
        "print(\"Result of addition:\", result_add)\n",
        "print(\"Result of subtraction:\", result_subtract)\n",
        "print(\"Result of multiplication:\", result_multiply)\n",
        "print(\"Result of division:\", result_divide)\n"
      ],
      "metadata": {
        "colab": {
          "base_uri": "https://localhost:8080/"
        },
        "id": "JfzdVwKu8Cfj",
        "outputId": "dcdf7318-5dbd-4240-fa1b-b707ac4b78fc"
      },
      "execution_count": 4,
      "outputs": [
        {
          "output_type": "stream",
          "name": "stdout",
          "text": [
            "Result of addition: 20\n",
            "Result of subtraction: 5\n",
            "Result of multiplication: 14\n",
            "Result of division: 5.0\n"
          ]
        }
      ]
    },
    {
      "cell_type": "markdown",
      "source": [
        "3. Write a Python program to create a class that represents a shape. Include methods to calculate its area and perimeter. Implement subclasses for different shapes like circle, triangle, and square.\n"
      ],
      "metadata": {
        "id": "BS_1cHjj8qLd"
      }
    },
    {
      "cell_type": "code",
      "source": [
        "import math\n",
        "\n",
        "class Shape:\n",
        "    def area(self):\n",
        "        pass\n",
        "\n",
        "    def perimeter(self):\n",
        "        pass\n",
        "\n",
        "class Circle(Shape):\n",
        "    def __init__(self, radius):\n",
        "        self.radius = radius\n",
        "\n",
        "    def area(self):\n",
        "        return math.pi * self.radius ** 2\n",
        "\n",
        "    def perimeter(self):\n",
        "        return 2 * math.pi * self.radius\n",
        "\n",
        "class Triangle(Shape):\n",
        "    def __init__(self, side1, side2, side3):\n",
        "        self.side1 = side1\n",
        "        self.side2 = side2\n",
        "        self.side3 = side3\n",
        "\n",
        "    def perimeter(self):\n",
        "        return self.side1 + self.side2 + self.side3\n",
        "\n",
        "    def area(self):\n",
        "        s = self.perimeter() / 2\n",
        "        return math.sqrt(s * (s - self.side1) * (s - self.side2) * (s - self.side3))\n",
        "\n",
        "class Square(Shape):\n",
        "    def __init__(self, side):\n",
        "        self.side = side\n",
        "\n",
        "    def perimeter(self):\n",
        "        return 4 * self.side\n",
        "\n",
        "    def area(self):\n",
        "        return self.side ** 2\n",
        "\n",
        "circle = Circle(5)\n",
        "triangle = Triangle(3, 4, 5)\n",
        "square = Square(4)\n",
        "\n",
        "print(\"Area of Circle:\", circle.area())\n",
        "print(\"Perimeter of Circle:\", circle.perimeter())\n",
        "print(\"Area of Triangle:\", triangle.area())\n",
        "print(\"Perimeter of Triangle:\", triangle.perimeter())\n",
        "print(\"Area of Square:\", square.area())\n",
        "print(\"Perimeter of Square:\", square.perimeter())\n"
      ],
      "metadata": {
        "colab": {
          "base_uri": "https://localhost:8080/"
        },
        "id": "gVamfBAw8tuJ",
        "outputId": "4a220096-da23-49bb-f49f-b4be07facd99"
      },
      "execution_count": 5,
      "outputs": [
        {
          "output_type": "stream",
          "name": "stdout",
          "text": [
            "Area of Circle: 78.53981633974483\n",
            "Perimeter of Circle: 31.41592653589793\n",
            "Area of Triangle: 6.0\n",
            "Perimeter of Triangle: 12\n",
            "Area of Square: 16\n",
            "Perimeter of Square: 16\n"
          ]
        }
      ]
    }
  ]
}