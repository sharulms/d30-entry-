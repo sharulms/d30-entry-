{
  "nbformat": 4,
  "nbformat_minor": 0,
  "metadata": {
    "colab": {
      "provenance": [],
      "authorship_tag": "ABX9TyP/9RZ6QdUfk/aHT6FhZnW4",
      "include_colab_link": true
    },
    "kernelspec": {
      "name": "python3",
      "display_name": "Python 3"
    },
    "language_info": {
      "name": "python"
    }
  },
  "cells": [
    {
      "cell_type": "markdown",
      "metadata": {
        "id": "view-in-github",
        "colab_type": "text"
      },
      "source": [
        "<a href=\"https://colab.research.google.com/github/sharulms/d30-entry-/blob/main/D30task4.ipynb\" target=\"_parent\"><img src=\"https://colab.research.google.com/assets/colab-badge.svg\" alt=\"Open In Colab\"/></a>"
      ]
    },
    {
      "cell_type": "code",
      "execution_count": null,
      "metadata": {
        "id": "15mVYvdIzwsK"
      },
      "outputs": [],
      "source": []
    },
    {
      "cell_type": "markdown",
      "source": [
        "Exercise 1: Create a function with a default argument\n",
        "Write a program to create a function show_employee() using the following conditions.\n"
      ],
      "metadata": {
        "id": "6URQBlbm0EMv"
      }
    },
    {
      "cell_type": "code",
      "source": [
        "def show_employee(name, salary=9000):\n",
        "    print(\"Employee Name:\", name)\n",
        "    print(\"Employee Salary:\", salary)\n",
        "show_employee(\"Ben\", 12000)\n",
        "show_employee(\"Jessa\")\n"
      ],
      "metadata": {
        "colab": {
          "base_uri": "https://localhost:8080/"
        },
        "id": "ULCeEvGb0P2G",
        "outputId": "3365c25a-1d5f-4601-cd68-38c544eeb4ab"
      },
      "execution_count": 5,
      "outputs": [
        {
          "output_type": "stream",
          "name": "stdout",
          "text": [
            "Employee Name: Ben\n",
            "Employee Salary: 12000\n",
            "Employee Name: Jessa\n",
            "Employee Salary: 9000\n"
          ]
        }
      ]
    },
    {
      "cell_type": "markdown",
      "source": [
        "Exercise 2: Create an inner function to calculate the addition in the following way\n",
        "Create an outer function that will accept two parameters, a and b\n",
        "Create an inner function inside an outer function that will calculate the addition of a and b\n",
        "At last, an outer function will add 5 into addition and return it\n"
      ],
      "metadata": {
        "id": "Nut8oJtT0G9F"
      }
    },
    {
      "cell_type": "code",
      "source": [
        "def outer_function(a, b):\n",
        "    def inner_function():\n",
        "        return a + b\n",
        "    addition = inner_function() + 5\n",
        "    return addition\n",
        "result = outer_function(3, 7)\n",
        "print(\"Result:\", result)\n"
      ],
      "metadata": {
        "colab": {
          "base_uri": "https://localhost:8080/"
        },
        "id": "oqpKcdNz181C",
        "outputId": "f1434a37-7268-40b8-a6e1-cdcc8e6443d1"
      },
      "execution_count": 7,
      "outputs": [
        {
          "output_type": "stream",
          "name": "stdout",
          "text": [
            "Result: 15\n"
          ]
        }
      ]
    },
    {
      "cell_type": "markdown",
      "source": [
        "3.Generate a Python list of all the even numbers between 4 to 30\n"
      ],
      "metadata": {
        "id": "AbdBfYGv2oQV"
      }
    },
    {
      "cell_type": "code",
      "source": [
        " for x in range(4,31):\n",
        "    if (x % 2 == 0):\n",
        "      print(even_numbers)\n"
      ],
      "metadata": {
        "colab": {
          "base_uri": "https://localhost:8080/"
        },
        "id": "7EGcL8te2qyG",
        "outputId": "66cd8a0b-cb65-470e-bbba-e43957599c63"
      },
      "execution_count": 35,
      "outputs": [
        {
          "output_type": "stream",
          "name": "stdout",
          "text": [
            "[4, 6, 8, 10, 12, 14, 16, 18, 20, 22, 24, 26, 28, 30]\n",
            "[4, 6, 8, 10, 12, 14, 16, 18, 20, 22, 24, 26, 28, 30]\n",
            "[4, 6, 8, 10, 12, 14, 16, 18, 20, 22, 24, 26, 28, 30]\n",
            "[4, 6, 8, 10, 12, 14, 16, 18, 20, 22, 24, 26, 28, 30]\n",
            "[4, 6, 8, 10, 12, 14, 16, 18, 20, 22, 24, 26, 28, 30]\n",
            "[4, 6, 8, 10, 12, 14, 16, 18, 20, 22, 24, 26, 28, 30]\n",
            "[4, 6, 8, 10, 12, 14, 16, 18, 20, 22, 24, 26, 28, 30]\n",
            "[4, 6, 8, 10, 12, 14, 16, 18, 20, 22, 24, 26, 28, 30]\n",
            "[4, 6, 8, 10, 12, 14, 16, 18, 20, 22, 24, 26, 28, 30]\n",
            "[4, 6, 8, 10, 12, 14, 16, 18, 20, 22, 24, 26, 28, 30]\n",
            "[4, 6, 8, 10, 12, 14, 16, 18, 20, 22, 24, 26, 28, 30]\n",
            "[4, 6, 8, 10, 12, 14, 16, 18, 20, 22, 24, 26, 28, 30]\n",
            "[4, 6, 8, 10, 12, 14, 16, 18, 20, 22, 24, 26, 28, 30]\n",
            "[4, 6, 8, 10, 12, 14, 16, 18, 20, 22, 24, 26, 28, 30]\n"
          ]
        }
      ]
    },
    {
      "cell_type": "markdown",
      "source": [
        "4. Lambda Function to Check if value is in a List\n",
        "Given a list, the task is to write a Python program to check if the value exists in the list or not using the lambda function.\n",
        "\n",
        "\n",
        "Input  : L = [1, 2, 3, 4, 5]\n",
        "          element = 4\n",
        "Output :  Element is Present in the list\n",
        "\n",
        "Input :  L = [1, 2, 3, 4, 5]\n",
        "          element = 8\n",
        "Output :  Element is NOT Present in the\n",
        "\n"
      ],
      "metadata": {
        "id": "WA8Jsors5ylU"
      }
    },
    {
      "cell_type": "code",
      "source": [
        "L = [1, 2, 3,4,5,6,7,8]\n",
        "element = 4\n",
        "result = any(map(lambda x: x == element, L))\n",
        "if result:\n",
        "    print(\"Element is Present in the list\")\n",
        "else:\n",
        "    print(\"Element is NOT Present in the list\")\n"
      ],
      "metadata": {
        "colab": {
          "base_uri": "https://localhost:8080/"
        },
        "id": "-qQiF2q3539o",
        "outputId": "1483c1c7-1baf-4b1a-a39a-0cbd3c5d78f5"
      },
      "execution_count": 42,
      "outputs": [
        {
          "output_type": "stream",
          "name": "stdout",
          "text": [
            "Element is Present in the list\n"
          ]
        }
      ]
    },
    {
      "cell_type": "markdown",
      "source": [
        "Exercise 5: Sort list of tuples with their sum\n",
        "Sort the points based on their sum of elements in the tuples\n",
        "\n",
        "points = [(1, 2), (5, 3), (0, 7), (3, 1)]\n"
      ],
      "metadata": {
        "id": "llIJJ-pf6qCn"
      }
    },
    {
      "cell_type": "code",
      "source": [
        "points = [(1, 2), (5, 3), (0, 7), (3, 1)]\n",
        "def sum_of_tuple(t):\n",
        "    return sum(t)\n",
        "sorted_points = sorted(points, key=sum_of_tuple)\n",
        "print(\"Sorted points:\", sorted_points)\n"
      ],
      "metadata": {
        "colab": {
          "base_uri": "https://localhost:8080/"
        },
        "id": "wf8iqNDD6uod",
        "outputId": "6634e298-c968-49e9-87fd-4b37edc48547"
      },
      "execution_count": 43,
      "outputs": [
        {
          "output_type": "stream",
          "name": "stdout",
          "text": [
            "Sorted points: [(1, 2), (3, 1), (0, 7), (5, 3)]\n"
          ]
        }
      ]
    },
    {
      "cell_type": "markdown",
      "source": [
        "Exercise 6 :\n",
        "Write a python function, which will find all such numbers between 1000 and 3000 (both included) such that each digit of the number is an even number. Return the results as a list\n",
        "\n"
      ],
      "metadata": {
        "id": "9Y65meQP7Vlp"
      }
    },
    {
      "cell_type": "code",
      "source": [
        "def find_even_numbers(start=1000, end=3000):\n",
        "    even_numbers = []\n",
        "    for num in range(start, end + 1):\n",
        "        digits = [int(d) for d in str(num)]\n",
        "        if all(digit % 2 == 0 for digit in digits):\n",
        "            even_numbers.append(num)\n",
        "    return even_numbers\n",
        "result = find_even_numbers()\n",
        "print(\"Numbers with all even digits between 1000 and 3000:\", result)\n"
      ],
      "metadata": {
        "colab": {
          "base_uri": "https://localhost:8080/"
        },
        "id": "cT4fZYmu0PH1",
        "outputId": "119c6e26-fa2b-4545-d557-2828a2ad0dfc"
      },
      "execution_count": 48,
      "outputs": [
        {
          "output_type": "stream",
          "name": "stdout",
          "text": [
            "Numbers with all even digits between 1000 and 3000: [2000, 2002, 2004, 2006, 2008, 2020, 2022, 2024, 2026, 2028, 2040, 2042, 2044, 2046, 2048, 2060, 2062, 2064, 2066, 2068, 2080, 2082, 2084, 2086, 2088, 2200, 2202, 2204, 2206, 2208, 2220, 2222, 2224, 2226, 2228, 2240, 2242, 2244, 2246, 2248, 2260, 2262, 2264, 2266, 2268, 2280, 2282, 2284, 2286, 2288, 2400, 2402, 2404, 2406, 2408, 2420, 2422, 2424, 2426, 2428, 2440, 2442, 2444, 2446, 2448, 2460, 2462, 2464, 2466, 2468, 2480, 2482, 2484, 2486, 2488, 2600, 2602, 2604, 2606, 2608, 2620, 2622, 2624, 2626, 2628, 2640, 2642, 2644, 2646, 2648, 2660, 2662, 2664, 2666, 2668, 2680, 2682, 2684, 2686, 2688, 2800, 2802, 2804, 2806, 2808, 2820, 2822, 2824, 2826, 2828, 2840, 2842, 2844, 2846, 2848, 2860, 2862, 2864, 2866, 2868, 2880, 2882, 2884, 2886, 2888]\n"
          ]
        }
      ]
    },
    {
      "cell_type": "markdown",
      "source": [
        "7.Write a python function that accepts a sentence and calculate and return the number of letters and digits.\n",
        "Suppose the following input is supplied to the program:\n",
        "hello world! 123\n",
        "Then, the output should be:\n",
        "LETTERS 10\n",
        "DIGITS 3\n"
      ],
      "metadata": {
        "id": "3IrsLW2w9gRF"
      }
    },
    {
      "cell_type": "code",
      "source": [
        "def count_letters_and_digits(sentence):\n",
        "    num_letters = sum(1 for char in sentence if char.isalpha())\n",
        "    num_digits = sum(1 for char in sentence if char.isdigit())\n",
        "    return num_letters, num_digits\n",
        "\n",
        "input_sentence = \"hello world! 123\"\n",
        "letters, digits = count_letters_and_digits(input_sentence)\n",
        "print(\"LETTERS\", letters)\n",
        "print(\"DIGITS\", digits)\n"
      ],
      "metadata": {
        "colab": {
          "base_uri": "https://localhost:8080/"
        },
        "id": "aJROVY8-9q95",
        "outputId": "6ff960a2-73fd-4348-b8e8-eb916fe403bd"
      },
      "execution_count": 49,
      "outputs": [
        {
          "output_type": "stream",
          "name": "stdout",
          "text": [
            "LETTERS 10\n",
            "DIGITS 3\n"
          ]
        }
      ]
    },
    {
      "cell_type": "markdown",
      "source": [
        "8.Write a Python program to convert all the characters into uppercase and lowercase and eliminate duplicate letters from a given sequence. Use the map() function\n"
      ],
      "metadata": {
        "id": "HRUSfQr6-PkC"
      }
    },
    {
      "cell_type": "code",
      "source": [
        "def convert_and_eliminate_duplicates(sequence):\n",
        "    upper_case = list(map(str.upper, sequence))\n",
        "\n",
        "    lower_case = list(map(str.lower, sequence))\n",
        "\n",
        "    unique_characters = list(set(sequence))\n",
        "\n",
        "    return upper_case, lower_case, unique_characters\n",
        "\n",
        "sequence = \"Hello World\"\n",
        "upper_case, lower_case, unique_characters = convert_and_eliminate_duplicates(sequence)\n",
        "\n",
        "print(\"Uppercase:\", upper_case)\n",
        "print(\"Lowercase:\", lower_case)\n",
        "print(\"Unique characters:\", unique_characters)\n",
        "\n"
      ],
      "metadata": {
        "colab": {
          "base_uri": "https://localhost:8080/"
        },
        "id": "VaB4VUN7-Vbk",
        "outputId": "3b0bb10b-7046-41c9-ba3e-c0990af764d5"
      },
      "execution_count": 50,
      "outputs": [
        {
          "output_type": "stream",
          "name": "stdout",
          "text": [
            "Uppercase: ['H', 'E', 'L', 'L', 'O', ' ', 'W', 'O', 'R', 'L', 'D']\n",
            "Lowercase: ['h', 'e', 'l', 'l', 'o', ' ', 'w', 'o', 'r', 'l', 'd']\n",
            "Unique characters: [' ', 'l', 'H', 'r', 'o', 'd', 'e', 'W']\n"
          ]
        }
      ]
    },
    {
      "cell_type": "markdown",
      "source": [
        "9.Write a Python program to element wise add two given lists and find the difference between them. Use the map() function\n",
        "\n"
      ],
      "metadata": {
        "id": "rggi8sHTNfRN"
      }
    },
    {
      "cell_type": "code",
      "source": [
        "def element_wise_add_subtract(list1, list2):\n",
        "    sum_result = list(map(lambda x, y: x + y, list1, list2))\n",
        "\n",
        "    difference_result = list(map(lambda x, y: x - y, list1, list2))\n",
        "\n",
        "    return sum_result, difference_result\n",
        "list1 = [1, 2, 3, 4, 5]\n",
        "list2 = [5, 4, 3, 2, 1]\n",
        "\n",
        "sum_result, difference_result = element_wise_add_subtract(list1, list2)\n",
        "\n",
        "print(\"Element-wise addition:\", sum_result)\n",
        "print(\"Element-wise difference:\", difference_result)\n"
      ],
      "metadata": {
        "colab": {
          "base_uri": "https://localhost:8080/"
        },
        "id": "zLNXVvZNNsOq",
        "outputId": "92ea6a8b-53ba-4823-9dac-781c48666aa4"
      },
      "execution_count": 51,
      "outputs": [
        {
          "output_type": "stream",
          "name": "stdout",
          "text": [
            "Element-wise addition: [6, 6, 6, 6, 6]\n",
            "Element-wise difference: [-4, -2, 0, 2, 4]\n"
          ]
        }
      ]
    },
    {
      "cell_type": "code",
      "source": [],
      "metadata": {
        "id": "idgAcvaDNh7q"
      },
      "execution_count": null,
      "outputs": []
    },
    {
      "cell_type": "markdown",
      "source": [
        "10.Write a Python program to filter the height and weight of students, which are stored in a dictionary using lambda.\n"
      ],
      "metadata": {
        "id": "-nWp8B7qO1Bg"
      }
    },
    {
      "cell_type": "code",
      "source": [
        "# Original Dictionary\n",
        "students = {'Cierra Vega': (6.2, 71), 'Alden Cantrell': (5.9, 65), 'Kierra Gentry': (6.0, 68), 'Pierre Cox': (5.8, 66)}\n",
        "\n",
        "filtered_students = dict(filter(lambda item: item[1][0] > 6 and item[1][1] > 70, students.items()))\n",
        "\n",
        "print(\"Height > 6ft and Weight > 70kg:\")\n",
        "print(filtered_students)\n"
      ],
      "metadata": {
        "colab": {
          "base_uri": "https://localhost:8080/"
        },
        "id": "raNTDh6FO87r",
        "outputId": "a5bfe095-f279-454f-e5ae-1bfde9e5e995"
      },
      "execution_count": 53,
      "outputs": [
        {
          "output_type": "stream",
          "name": "stdout",
          "text": [
            "Height > 6ft and Weight > 70kg:\n",
            "{'Cierra Vega': (6.2, 71)}\n"
          ]
        }
      ]
    },
    {
      "cell_type": "markdown",
      "source": [
        "11.Write a Python program to remove all elements from a given list present in another list using lambda.\n"
      ],
      "metadata": {
        "id": "CepQsan1PxSq"
      }
    },
    {
      "cell_type": "code",
      "source": [
        "# Original lists\n",
        "list1 = [1, 2, 3, 4, 5, 6, 7, 8, 9, 10]\n",
        "list2 = [2, 4, 6, 8]\n",
        "\n",
        "list1_filtered = list(filter(lambda x: x not in list2, list1))\n",
        "\n",
        "print(\"After removing elements from 'list1' present in 'list2':\")\n",
        "print(list1_filtered)\n"
      ],
      "metadata": {
        "colab": {
          "base_uri": "https://localhost:8080/"
        },
        "id": "RKYu23efP0Pg",
        "outputId": "2906d333-22ed-4516-9cd6-556c8bf68ccd"
      },
      "execution_count": 54,
      "outputs": [
        {
          "output_type": "stream",
          "name": "stdout",
          "text": [
            "After removing elements from 'list1' present in 'list2':\n",
            "[1, 3, 5, 7, 9, 10]\n"
          ]
        }
      ]
    },
    {
      "cell_type": "markdown",
      "source": [
        "12.Write a Python program to calculate the product of a given list of numbers using lambda.\n",
        "\n",
        "list1: [1, 2, 3, 4, 5, 6, 7, 8, 9, 10]\n",
        "Product of the said list numbers:\n",
        "3628800"
      ],
      "metadata": {
        "id": "upUp2UFjQF9Z"
      }
    },
    {
      "cell_type": "code",
      "source": [
        "\n",
        "from functools import reduce\n",
        "\n",
        "# Original list\n",
        "list1 = [1, 2, 3, 4, 5, 6, 7, 8, 9, 10]\n",
        "\n",
        "product = reduce(lambda x, y: x * y, list1)\n",
        "\n",
        "print(\"Product of the said list numbers:\")\n",
        "print(product)\n",
        "\n"
      ],
      "metadata": {
        "colab": {
          "base_uri": "https://localhost:8080/"
        },
        "id": "oqn3iUqeQKrs",
        "outputId": "7d567c8b-1ba6-47de-a5fe-21dd78d09637"
      },
      "execution_count": 57,
      "outputs": [
        {
          "output_type": "stream",
          "name": "stdout",
          "text": [
            "Product of the said list numbers:\n",
            "3628800\n"
          ]
        }
      ]
    },
    {
      "cell_type": "markdown",
      "source": [
        "13.Write a Python program to multiply all the numbers in a given list using lambda.\n",
        "Original list:\n",
        "[4, 3, 2, 2, -1, 18]\n",
        "Mmultiply all the numbers of the said list: -864\n"
      ],
      "metadata": {
        "id": "Kxp7P5xzQwHd"
      }
    },
    {
      "cell_type": "code",
      "source": [
        "from functools import reduce\n",
        "\n",
        "# Original list\n",
        "original_list = [4, 3, 2, 2, -1, 18]\n",
        "result = reduce(lambda x, y: x * y, original_list)\n",
        "print(\"Multiply all the numbers of the said list:\", result)\n"
      ],
      "metadata": {
        "colab": {
          "base_uri": "https://localhost:8080/"
        },
        "id": "osZwsTY3Q3k0",
        "outputId": "e9afc3d6-e54c-4eda-92e4-745e0d2387a1"
      },
      "execution_count": 58,
      "outputs": [
        {
          "output_type": "stream",
          "name": "stdout",
          "text": [
            "Multiply all the numbers of the said list: -864\n"
          ]
        }
      ]
    },
    {
      "cell_type": "markdown",
      "source": [
        "14.Write a Python program to calculate the average value of the numbers in a given tuple of tuples using lambda.\n",
        "Original Tuple:\n",
        "((10, 10, 10), (30, 45, 56), (81, 80, 39), (1, 2, 3))\n",
        "Average value of the numbers of the said tuple of tuples:\n",
        "(30.5, 34.25, 27.0)\n"
      ],
      "metadata": {
        "id": "mtH8Gr0NROTS"
      }
    },
    {
      "cell_type": "code",
      "source": [
        "# Original Tuple\n",
        "original_tuple = ((10, 10, 10), (30, 45, 56), (81, 80, 39), (1, 2, 3))\n",
        "\n",
        "average_values = tuple(map(lambda x: sum(x) / len(x), zip(*original_tuple)))\n",
        "\n",
        "print(\"Average value of the numbers of the said tuple of tuples:\")\n",
        "print(average_values)\n"
      ],
      "metadata": {
        "colab": {
          "base_uri": "https://localhost:8080/"
        },
        "id": "gWnTKYmcRQNs",
        "outputId": "04d3dce7-4d15-4781-c2d3-91fa5d74c44d"
      },
      "execution_count": 59,
      "outputs": [
        {
          "output_type": "stream",
          "name": "stdout",
          "text": [
            "Average value of the numbers of the said tuple of tuples:\n",
            "(30.5, 34.25, 27.0)\n"
          ]
        }
      ]
    },
    {
      "cell_type": "markdown",
      "source": [
        "15.Write a Python program to sort a given mixed list of integers and strings using lambda. Numbers must be sorted before strings.\n",
        "Original list:\n",
        "[19, 'red', 12, 'green', 'blue', 10, 'white', 'green', 1]\n",
        "Sort the said mixed list of integers and strings:\n",
        "[1, 10, 12, 19, 'blue', 'green', 'green', 'red', 'white']\n"
      ],
      "metadata": {
        "id": "1WWb1y8QRjTy"
      }
    },
    {
      "cell_type": "code",
      "source": [
        "# Original list\n",
        "mixed_list = [19, 'red', 12, 'green', 'blue', 10, 'white', 'green', 1]\n",
        "\n",
        "sorted_list = sorted(mixed_list, key=lambda x: (isinstance(x, str), x))\n",
        "print(\"Sort the said mixed list of integers and strings:\")\n",
        "print(sorted_list)\n"
      ],
      "metadata": {
        "colab": {
          "base_uri": "https://localhost:8080/"
        },
        "id": "e7xG3_CwRnJH",
        "outputId": "a65c06df-f4c6-4cac-d719-6e7a342cb28f"
      },
      "execution_count": 61,
      "outputs": [
        {
          "output_type": "stream",
          "name": "stdout",
          "text": [
            "Sort the said mixed list of integers and strings:\n",
            "[1, 10, 12, 19, 'blue', 'green', 'green', 'red', 'white']\n"
          ]
        }
      ]
    },
    {
      "cell_type": "markdown",
      "source": [
        "16.Write a Python program to count the occurrences of items in a given list using lambda.\n",
        "Original list:\n",
        "[3, 4, 5, 8, 0, 3, 8, 5, 0, 3, 1, 5, 2, 3, 4, 2]\n",
        "Count the occurrences of the items in the said list:\n",
        "{3: 4, 4: 2, 5: 3, 8: 2, 0: 2, 1: 1, 2: 2}\n"
      ],
      "metadata": {
        "id": "s6UMnS-PR_0Y"
      }
    },
    {
      "cell_type": "code",
      "source": [
        "# Original list\n",
        "original_list = [3, 4, 5, 8, 0, 3, 8, 5, 0, 3, 1, 5, 2, 3, 4, 2]\n",
        "\n",
        "occurrences = dict(map(lambda x: (x, original_list.count(x)), set(original_list)))\n",
        "\n",
        "print(\"Count the occurrences of the items in the original list:\")\n",
        "print(occurrences)\n",
        "\n"
      ],
      "metadata": {
        "colab": {
          "base_uri": "https://localhost:8080/"
        },
        "id": "0uWbj-WySBf_",
        "outputId": "8416bb9b-0c89-4c04-c1fb-e28d05bfb9c5"
      },
      "execution_count": 63,
      "outputs": [
        {
          "output_type": "stream",
          "name": "stdout",
          "text": [
            "Count the occurrences of the items in the original list:\n",
            "{0: 2, 1: 1, 2: 2, 3: 4, 4: 2, 5: 3, 8: 2}\n"
          ]
        }
      ]
    },
    {
      "cell_type": "markdown",
      "source": [
        "17.Write a Python program to remove None values from a given list using the lambda function.\n",
        "Original list:\n",
        "[12, 0, None, 23, None, -55, 234, 89, None, 0, 6, -12]\n",
        "Remove None value from the said list:\n",
        "[12, 0, 23, -55, 234, 89, 0, 6, -12]\n"
      ],
      "metadata": {
        "id": "LeznPdSmScyZ"
      }
    },
    {
      "cell_type": "code",
      "source": [
        "\n",
        "original_list = [12, 0, None, 23, None, -55, 234, 89, None, 0, 6, -12]\n",
        "\n",
        "filtered_list = list(filter(lambda x: x is not None, original_list))\n",
        "\n",
        "print(\"Remove None value from the said list:\")\n",
        "print(filtered_list)\n"
      ],
      "metadata": {
        "colab": {
          "base_uri": "https://localhost:8080/"
        },
        "id": "O3fVem8ESgJU",
        "outputId": "d5959b43-e0c8-4934-e64a-45c33e790fad"
      },
      "execution_count": 65,
      "outputs": [
        {
          "output_type": "stream",
          "name": "stdout",
          "text": [
            "Remove None value from the said list:\n",
            "[12, 0, 23, -55, 234, 89, 0, 6, -12]\n"
          ]
        }
      ]
    }
  ]
}