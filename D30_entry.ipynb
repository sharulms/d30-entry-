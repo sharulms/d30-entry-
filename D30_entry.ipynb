{
  "nbformat": 4,
  "nbformat_minor": 0,
  "metadata": {
    "colab": {
      "provenance": [],
      "authorship_tag": "ABX9TyNRlOFG80a+3oNisuebhlEe",
      "include_colab_link": true
    },
    "kernelspec": {
      "name": "python3",
      "display_name": "Python 3"
    },
    "language_info": {
      "name": "python"
    }
  },
  "cells": [
    {
      "cell_type": "markdown",
      "metadata": {
        "id": "view-in-github",
        "colab_type": "text"
      },
      "source": [
        "<a href=\"https://colab.research.google.com/github/sharulms/d30-entry-/blob/main/D30_entry.ipynb\" target=\"_parent\"><img src=\"https://colab.research.google.com/assets/colab-badge.svg\" alt=\"Open In Colab\"/></a>"
      ]
    },
    {
      "cell_type": "code",
      "source": [
        "num=int(input(\"Enter the number:\"))\n",
        "if (num==0):\n",
        "  print(\"number is zero\")\n",
        "elif (num%2==0):\n",
        "  print(\"number is even\")\n",
        "else:\n",
        "  print(\"number is odd\")\n",
        "\n",
        "\n"
      ],
      "metadata": {
        "id": "LV2fCwSSVmvY",
        "colab": {
          "base_uri": "https://localhost:8080/"
        },
        "outputId": "559a60a8-94b0-4ce1-f18e-77dc573517a2"
      },
      "execution_count": 15,
      "outputs": [
        {
          "output_type": "stream",
          "name": "stdout",
          "text": [
            "Enter the number:2\n",
            "number is even\n"
          ]
        }
      ]
    },
    {
      "cell_type": "code",
      "source": [
        "num1=int(input(\"Enter the first value:\"))\n",
        "num2=int(input(\"Enter the second value:\"))\n",
        "for num in range(num1,num2):\n",
        "  if(num%7==0 and num%5==0):\n",
        "    print(num)\n",
        "\n"
      ],
      "metadata": {
        "colab": {
          "base_uri": "https://localhost:8080/"
        },
        "id": "OURDMFMuIs3A",
        "outputId": "91443ca6-20ab-4303-c9d5-76d17ef9cf38"
      },
      "execution_count": 23,
      "outputs": [
        {
          "output_type": "stream",
          "name": "stdout",
          "text": [
            "Enter the first value:1\n",
            "Enter the second value:500\n",
            "35\n",
            "70\n",
            "105\n",
            "140\n",
            "175\n",
            "210\n",
            "245\n",
            "280\n",
            "315\n",
            "350\n",
            "385\n",
            "420\n",
            "455\n",
            "490\n"
          ]
        }
      ]
    },
    {
      "cell_type": "code",
      "source": [],
      "metadata": {
        "id": "JTPaqvKqIux4"
      },
      "execution_count": null,
      "outputs": []
    }
  ]
}