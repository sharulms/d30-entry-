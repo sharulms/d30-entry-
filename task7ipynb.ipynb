{
  "nbformat": 4,
  "nbformat_minor": 0,
  "metadata": {
    "colab": {
      "provenance": [],
      "authorship_tag": "ABX9TyOGr0uD4aZe+q3McuJnEFJf",
      "include_colab_link": true
    },
    "kernelspec": {
      "name": "python3",
      "display_name": "Python 3"
    },
    "language_info": {
      "name": "python"
    }
  },
  "cells": [
    {
      "cell_type": "markdown",
      "metadata": {
        "id": "view-in-github",
        "colab_type": "text"
      },
      "source": [
        "<a href=\"https://colab.research.google.com/github/sharulms/d30-entry-/blob/main/task7ipynb.ipynb\" target=\"_parent\"><img src=\"https://colab.research.google.com/assets/colab-badge.svg\" alt=\"Open In Colab\"/></a>"
      ]
    },
    {
      "cell_type": "markdown",
      "source": [
        "NumPy"
      ],
      "metadata": {
        "id": "fPcGd4cp0e2c"
      }
    },
    {
      "cell_type": "markdown",
      "source": [
        "1. How to extract all odd numbers from arr?"
      ],
      "metadata": {
        "id": "MnwzF9ek0l2q"
      }
    },
    {
      "cell_type": "code",
      "source": [
        "def extract_odd_numbers(arr):\n",
        "    odd_numbers = [num for num in arr if num % 2 != 0]\n",
        "    return odd_numbers\n",
        "\n",
        "arr = [1, 2, 3, 4, 5, 6, 7, 8, 9, 10]\n",
        "odd_numbers = extract_odd_numbers(arr)\n",
        "print(odd_numbers)\n"
      ],
      "metadata": {
        "colab": {
          "base_uri": "https://localhost:8080/"
        },
        "id": "gr2PEbdT0gZz",
        "outputId": "c30cf3b6-36ca-4463-8b78-ea1fd11ebb90"
      },
      "execution_count": 1,
      "outputs": [
        {
          "output_type": "stream",
          "name": "stdout",
          "text": [
            "[1, 3, 5, 7, 9]\n"
          ]
        }
      ]
    },
    {
      "cell_type": "markdown",
      "source": [
        "2. Replace all odd numbers in arr with -1 without changing"
      ],
      "metadata": {
        "id": "gDJlJRRa1xXu"
      }
    },
    {
      "cell_type": "code",
      "source": [
        "def replace_odd_numbers(arr):\n",
        "    new_arr = [-1 if num % 2 != 0 else num for num in arr]\n",
        "    return new_arr\n",
        "\n",
        "arr = [1, 2, 3, 4, 5, 6, 7, 8, 9, 10]\n",
        "new_arr = replace_odd_numbers(arr)\n",
        "print(\"Original array:\", arr)\n",
        "print(\"New array with odd numbers replaced:\", new_arr)\n"
      ],
      "metadata": {
        "colab": {
          "base_uri": "https://localhost:8080/"
        },
        "id": "WGqYsBsT1y2E",
        "outputId": "1b909e0c-223d-45ef-b6d3-027d85e60dd1"
      },
      "execution_count": 2,
      "outputs": [
        {
          "output_type": "stream",
          "name": "stdout",
          "text": [
            "Original array: [1, 2, 3, 4, 5, 6, 7, 8, 9, 10]\n",
            "New array with odd numbers replaced: [-1, 2, -1, 4, -1, 6, -1, 8, -1, 10]\n"
          ]
        }
      ]
    },
    {
      "cell_type": "markdown",
      "source": [
        "3. Convert a 1D array to a 2D array with 2 rows"
      ],
      "metadata": {
        "id": "m0klitqS2Ent"
      }
    },
    {
      "cell_type": "code",
      "source": [
        "import numpy as np\n",
        "\n",
        "def convert_to_2d_array(arr):\n",
        "\n",
        "    if len(arr) % 2 != 0:\n",
        "        raise ValueError(\"The length of the array must be even to split it into 2 rows.\")\n",
        "\n",
        "\n",
        "    new_arr = np.reshape(arr, (2, -1))\n",
        "    return new_arr\n",
        "\n",
        "arr = [1, 2, 3, 4, 5, 6]\n",
        "new_arr = convert_to_2d_array(arr)\n",
        "print(\"Original array:\", arr)\n",
        "print(\"2D array with 2 rows:\\n\", new_arr)\n"
      ],
      "metadata": {
        "colab": {
          "base_uri": "https://localhost:8080/"
        },
        "id": "5sNLpRmr2IiV",
        "outputId": "ad172906-1c78-450e-8045-0091bf4a9f60"
      },
      "execution_count": 3,
      "outputs": [
        {
          "output_type": "stream",
          "name": "stdout",
          "text": [
            "Original array: [1, 2, 3, 4, 5, 6]\n",
            "2D array with 2 rows:\n",
            " [[1 2 3]\n",
            " [4 5 6]]\n"
          ]
        }
      ]
    },
    {
      "cell_type": "markdown",
      "source": [
        "4. Stack arrays a and b vertically"
      ],
      "metadata": {
        "id": "PTyN6cfB2oPO"
      }
    },
    {
      "cell_type": "code",
      "source": [
        "import numpy as np\n",
        "\n",
        "def stack_vertically(a, b):\n",
        "    return np.vstack((a, b))\n",
        "\n",
        "a = np.array([1, 2, 3])\n",
        "b = np.array([4, 5, 6])\n",
        "result = stack_vertically(a, b)\n",
        "print(\"Array a:\", a)\n",
        "print(\"Array b:\", b)\n",
        "print(\"Stacked array:\\n\", result)\n"
      ],
      "metadata": {
        "colab": {
          "base_uri": "https://localhost:8080/"
        },
        "id": "faJUoxiM2prB",
        "outputId": "32c2048f-7176-429e-83da-b3976ce8c067"
      },
      "execution_count": 4,
      "outputs": [
        {
          "output_type": "stream",
          "name": "stdout",
          "text": [
            "Array a: [1 2 3]\n",
            "Array b: [4 5 6]\n",
            "Stacked array:\n",
            " [[1 2 3]\n",
            " [4 5 6]]\n"
          ]
        }
      ]
    },
    {
      "cell_type": "markdown",
      "source": [
        "5. Stack the arrays a and b horizontally."
      ],
      "metadata": {
        "id": "JVDQWeZa21Zj"
      }
    },
    {
      "cell_type": "code",
      "source": [
        "import numpy as np\n",
        "\n",
        "def stack_horizontally(a, b):\n",
        "    return np.hstack((a, b))\n",
        "\n",
        "\n",
        "a = np.array([1, 2, 3])\n",
        "b = np.array([4, 5, 6])\n",
        "result = stack_horizontally(a, b)\n",
        "print(\"Array a:\", a)\n",
        "print(\"Array b:\", b)\n",
        "print(\"Stacked array:\\n\", result)\n"
      ],
      "metadata": {
        "colab": {
          "base_uri": "https://localhost:8080/"
        },
        "id": "PaOy1PN12561",
        "outputId": "2a723285-5f24-4740-8ecb-1d179c773b50"
      },
      "execution_count": 5,
      "outputs": [
        {
          "output_type": "stream",
          "name": "stdout",
          "text": [
            "Array a: [1 2 3]\n",
            "Array b: [4 5 6]\n",
            "Stacked array:\n",
            " [1 2 3 4 5 6]\n"
          ]
        }
      ]
    },
    {
      "cell_type": "markdown",
      "source": [
        "6.How to get the common items between two python numpy arrays?"
      ],
      "metadata": {
        "id": "Ga6tcmig3GDu"
      }
    },
    {
      "cell_type": "code",
      "source": [
        "import numpy as np\n",
        "\n",
        "def find_common_items(a, b):\n",
        "    return np.intersect1d(a, b)\n",
        "\n",
        "\n",
        "a = np.array([1, 2, 3, 4, 5])\n",
        "b = np.array([4, 5, 6, 7, 8])\n",
        "common_items = find_common_items(a, b)\n",
        "print(\"Array a:\", a)\n",
        "print(\"Array b:\", b)\n",
        "print(\"Common items:\", common_items)\n"
      ],
      "metadata": {
        "colab": {
          "base_uri": "https://localhost:8080/"
        },
        "id": "lPNGpYtk3JWz",
        "outputId": "797e1c3d-2714-43cc-9554-7b682c86c720"
      },
      "execution_count": 6,
      "outputs": [
        {
          "output_type": "stream",
          "name": "stdout",
          "text": [
            "Array a: [1 2 3 4 5]\n",
            "Array b: [4 5 6 7 8]\n",
            "Common items: [4 5]\n"
          ]
        }
      ]
    },
    {
      "cell_type": "markdown",
      "source": [
        "7.How to remove from one array those items that exist in another?"
      ],
      "metadata": {
        "id": "RiUegiQ1YA1f"
      }
    },
    {
      "cell_type": "code",
      "source": [
        "import numpy as np\n",
        "\n",
        "def remove_items(arr1, arr2):\n",
        "    return np.setdiff1d(arr1, arr2)\n",
        "\n",
        "arr1 = np.array([1, 2, 3, 4, 5])\n",
        "arr2 = np.array([3, 4, 5, 6, 7])\n",
        "result = remove_items(arr1, arr2)\n",
        "print(\"Array 1:\", arr1)\n",
        "print(\"Array 2:\", arr2)\n",
        "print(\"Array 1 after removing items present in Array 2:\", result)\n"
      ],
      "metadata": {
        "colab": {
          "base_uri": "https://localhost:8080/"
        },
        "id": "g8IRg-cfYCzB",
        "outputId": "db685a08-363a-42a9-a9f5-c7c84a438c7a"
      },
      "execution_count": 7,
      "outputs": [
        {
          "output_type": "stream",
          "name": "stdout",
          "text": [
            "Array 1: [1 2 3 4 5]\n",
            "Array 2: [3 4 5 6 7]\n",
            "Array 1 after removing items present in Array 2: [1 2]\n"
          ]
        }
      ]
    },
    {
      "cell_type": "markdown",
      "source": [
        "8. How to get the positions where elements of two arrays match?"
      ],
      "metadata": {
        "id": "ntL39lYEYO2U"
      }
    },
    {
      "cell_type": "code",
      "source": [
        "import numpy as np\n",
        "\n",
        "def get_matching_positions(arr1, arr2):\n",
        "\n",
        "    if arr1.shape != arr2.shape:\n",
        "        raise ValueError(\"Both arrays must have the same shape.\")\n",
        "\n",
        "    return np.where(arr1 == arr2)\n",
        "\n",
        "arr1 = np.array([1, 2, 3, 4, 5])\n",
        "arr2 = np.array([5, 2, 3, 0, 5])\n",
        "matching_positions = get_matching_positions(arr1, arr2)\n",
        "print(\"Array 1:\", arr1)\n",
        "print(\"Array 2:\", arr2)\n",
        "print(\"Matching positions:\", matching_positions)\n"
      ],
      "metadata": {
        "colab": {
          "base_uri": "https://localhost:8080/"
        },
        "id": "-FPsZAK1YaY0",
        "outputId": "7c197811-23b8-4564-836f-32f0f101b079"
      },
      "execution_count": 8,
      "outputs": [
        {
          "output_type": "stream",
          "name": "stdout",
          "text": [
            "Array 1: [1 2 3 4 5]\n",
            "Array 2: [5 2 3 0 5]\n",
            "Matching positions: (array([1, 2, 4]),)\n"
          ]
        }
      ]
    },
    {
      "cell_type": "markdown",
      "source": [
        "9.How to extract all numbers between a given range from a numpy array?"
      ],
      "metadata": {
        "id": "qN5ayFrGYf9v"
      }
    },
    {
      "cell_type": "code",
      "source": [
        "import numpy as np\n",
        "\n",
        "def extract_numbers_in_range(arr, min_value, max_value):\n",
        "    return arr[(arr >= min_value) & (arr <= max_value)]\n",
        "\n",
        "arr = np.array([1, 3, 5, 7, 9, 11, 13, 15])\n",
        "min_value = 5\n",
        "max_value = 12\n",
        "result = extract_numbers_in_range(arr, min_value, max_value)\n",
        "print(\"Original array:\", arr)\n",
        "print(f\"Numbers between {min_value} and {max_value}:\", result)\n"
      ],
      "metadata": {
        "colab": {
          "base_uri": "https://localhost:8080/"
        },
        "id": "30ezcSPRY3iA",
        "outputId": "e44c80fc-d3bf-4d12-b0dd-36f026861995"
      },
      "execution_count": 9,
      "outputs": [
        {
          "output_type": "stream",
          "name": "stdout",
          "text": [
            "Original array: [ 1  3  5  7  9 11 13 15]\n",
            "Numbers between 5 and 12: [ 5  7  9 11]\n"
          ]
        }
      ]
    },
    {
      "cell_type": "markdown",
      "source": [
        "Pandas"
      ],
      "metadata": {
        "id": "PHr8R26RY9Re"
      }
    },
    {
      "cell_type": "markdown",
      "source": [
        "1. Write a Pandas program to convert a dictionary to a Pandas series."
      ],
      "metadata": {
        "id": "uEoQJl-CZH-5"
      }
    },
    {
      "cell_type": "code",
      "source": [
        "import pandas as pd\n",
        "\n",
        "def convert_dict_to_series(data):\n",
        "    return pd.Series(data)\n",
        "\n",
        "data = {'a': 1, 'b': 2, 'c': 3, 'd': 4}\n",
        "series = convert_dict_to_series(data)\n",
        "print(\"Dictionary:\", data)\n",
        "print(\"Pandas Series:\\n\", series)\n"
      ],
      "metadata": {
        "colab": {
          "base_uri": "https://localhost:8080/"
        },
        "id": "LwvgZA1hZR2t",
        "outputId": "addc8e2c-b1bb-40c9-bb9b-286417d642c6"
      },
      "execution_count": 10,
      "outputs": [
        {
          "output_type": "stream",
          "name": "stdout",
          "text": [
            "Dictionary: {'a': 1, 'b': 2, 'c': 3, 'd': 4}\n",
            "Pandas Series:\n",
            " a    1\n",
            "b    2\n",
            "c    3\n",
            "d    4\n",
            "dtype: int64\n"
          ]
        }
      ]
    },
    {
      "cell_type": "markdown",
      "source": [
        "2. Write a Pandas program to convert a NumPy array to a Pandas series."
      ],
      "metadata": {
        "id": "MMkw_BVuZVdO"
      }
    },
    {
      "cell_type": "code",
      "source": [
        "import numpy as np\n",
        "import pandas as pd\n",
        "\n",
        "def convert_array_to_series(array):\n",
        "    return pd.Series(array)\n",
        "\n",
        "array = np.array([10, 20, 30, 40, 50])\n",
        "series = convert_array_to_series(array)\n",
        "print(\"NumPy Array:\", array)\n",
        "print(\"Pandas Series:\\n\", series)\n"
      ],
      "metadata": {
        "colab": {
          "base_uri": "https://localhost:8080/"
        },
        "id": "LihjfwZLZZKV",
        "outputId": "1ecf09ce-f705-4b23-d17f-fb4cd58f6627"
      },
      "execution_count": 11,
      "outputs": [
        {
          "output_type": "stream",
          "name": "stdout",
          "text": [
            "NumPy Array: [10 20 30 40 50]\n",
            "Pandas Series:\n",
            " 0    10\n",
            "1    20\n",
            "2    30\n",
            "3    40\n",
            "4    50\n",
            "dtype: int64\n"
          ]
        }
      ]
    },
    {
      "cell_type": "markdown",
      "source": [
        "3. Write a Pandas program to change the data type of given a column or a Series."
      ],
      "metadata": {
        "id": "M2tvPgmhZmSX"
      }
    },
    {
      "cell_type": "code",
      "source": [
        "import pandas as pd\n",
        "\n",
        "def change_series_dtype(series, dtype):\n",
        "    return series.astype(dtype)\n",
        "\n",
        "data = pd.Series([1, 2, 3, 4, 5])\n",
        "print(\"Original Series:\")\n",
        "print(data)\n",
        "print(\"Data type before conversion:\", data.dtype)\n",
        "\n",
        "converted_series = change_series_dtype(data, float)\n",
        "print(\"\\nConverted Series:\")\n",
        "print(converted_series)\n",
        "print(\"Data type after conversion:\", converted_series.dtype)\n"
      ],
      "metadata": {
        "colab": {
          "base_uri": "https://localhost:8080/"
        },
        "id": "_EaEH6S1Zove",
        "outputId": "867afccc-6048-48e7-eccf-501630ea5cc7"
      },
      "execution_count": 12,
      "outputs": [
        {
          "output_type": "stream",
          "name": "stdout",
          "text": [
            "Original Series:\n",
            "0    1\n",
            "1    2\n",
            "2    3\n",
            "3    4\n",
            "4    5\n",
            "dtype: int64\n",
            "Data type before conversion: int64\n",
            "\n",
            "Converted Series:\n",
            "0    1.0\n",
            "1    2.0\n",
            "2    3.0\n",
            "3    4.0\n",
            "4    5.0\n",
            "dtype: float64\n",
            "Data type after conversion: float64\n"
          ]
        }
      ]
    },
    {
      "cell_type": "markdown",
      "source": [
        "4. Write a Pandas program to convert the first column of a DataFrame as a Series."
      ],
      "metadata": {
        "id": "80vjs_ioZ9Cc"
      }
    },
    {
      "cell_type": "code",
      "source": [
        "import pandas as pd\n",
        "\n",
        "def convert_first_column_to_series(df):\n",
        "    # Select the first column by index and convert it to a Series\n",
        "    return df.iloc[:, 0]\n",
        "\n",
        "data = {\n",
        "    'A': [10, 20, 30, 40],\n",
        "    'B': [50, 60, 70, 80],\n",
        "    'C': [90, 100, 110, 120]\n",
        "}\n",
        "df = pd.DataFrame(data)\n",
        "print(\"Original DataFrame:\")\n",
        "print(df)\n",
        "\n",
        "first_column_series = convert_first_column_to_series(df)\n",
        "print(\"\\nFirst column as a Series:\")\n",
        "print(first_column_series)\n"
      ],
      "metadata": {
        "colab": {
          "base_uri": "https://localhost:8080/"
        },
        "id": "DWjG9GwWZ_0J",
        "outputId": "7836ac54-cd86-439b-ac6f-028e75013abd"
      },
      "execution_count": 13,
      "outputs": [
        {
          "output_type": "stream",
          "name": "stdout",
          "text": [
            "Original DataFrame:\n",
            "    A   B    C\n",
            "0  10  50   90\n",
            "1  20  60  100\n",
            "2  30  70  110\n",
            "3  40  80  120\n",
            "\n",
            "First column as a Series:\n",
            "0    10\n",
            "1    20\n",
            "2    30\n",
            "3    40\n",
            "Name: A, dtype: int64\n"
          ]
        }
      ]
    },
    {
      "cell_type": "markdown",
      "source": [
        "5. Write a Pandas program to convert a given Series to an array."
      ],
      "metadata": {
        "id": "d5Kq9qHFaPhF"
      }
    },
    {
      "cell_type": "code",
      "source": [
        "import pandas as pd\n",
        "\n",
        "def series_to_array(series):\n",
        "    return series.values\n",
        "\n",
        "data = pd.Series([10, 20, 30, 40])\n",
        "array = series_to_array(data)\n",
        "print(\"Original Series:\")\n",
        "print(data)\n",
        "print(\"\\nConverted Array:\")\n",
        "print(array)\n"
      ],
      "metadata": {
        "colab": {
          "base_uri": "https://localhost:8080/"
        },
        "id": "03dsRp2zaTPP",
        "outputId": "bdb094f4-aa64-4195-c776-b76a94099e12"
      },
      "execution_count": 14,
      "outputs": [
        {
          "output_type": "stream",
          "name": "stdout",
          "text": [
            "Original Series:\n",
            "0    10\n",
            "1    20\n",
            "2    30\n",
            "3    40\n",
            "dtype: int64\n",
            "\n",
            "Converted Array:\n",
            "[10 20 30 40]\n"
          ]
        }
      ]
    },
    {
      "cell_type": "markdown",
      "source": [],
      "metadata": {
        "id": "y5AaAaC1ag0v"
      }
    },
    {
      "cell_type": "markdown",
      "source": [
        "6 Write a Pandas program to convert Series of lists to one Series."
      ],
      "metadata": {
        "id": "uRimrAPKakFl"
      }
    },
    {
      "cell_type": "code",
      "source": [
        "import pandas as pd\n",
        "\n",
        "def convert_series_of_lists(series):\n",
        "    return series.explode()\n",
        "\n",
        "\n",
        "data = pd.Series([[1, 2, 3], [4, 5], [6, 7, 8]])\n",
        "flattened_series = convert_series_of_lists(data)\n",
        "print(\"Original Series:\")\n",
        "print(data)\n",
        "print(\"\\nFlattened Series:\")\n",
        "print(flattened_series)\n"
      ],
      "metadata": {
        "colab": {
          "base_uri": "https://localhost:8080/"
        },
        "id": "as7c7nK_ark3",
        "outputId": "eb79b7aa-aa2f-43da-b0c9-fb51fbf5125f"
      },
      "execution_count": 15,
      "outputs": [
        {
          "output_type": "stream",
          "name": "stdout",
          "text": [
            "Original Series:\n",
            "0    [1, 2, 3]\n",
            "1       [4, 5]\n",
            "2    [6, 7, 8]\n",
            "dtype: object\n",
            "\n",
            "Flattened Series:\n",
            "0    1\n",
            "0    2\n",
            "0    3\n",
            "1    4\n",
            "1    5\n",
            "2    6\n",
            "2    7\n",
            "2    8\n",
            "dtype: object\n"
          ]
        }
      ]
    },
    {
      "cell_type": "markdown",
      "source": [
        "7.Write a Pandas program to sort a given Series."
      ],
      "metadata": {
        "id": "Ojsl2BwRavSa"
      }
    },
    {
      "cell_type": "code",
      "source": [
        "import pandas as pd\n",
        "\n",
        "def sort_series(series, ascending=True):\n",
        "    return series.sort_values(ascending=ascending).reset_index(drop=True)\n",
        "\n",
        "data = pd.Series([5, 3, 8, 1, 9])\n",
        "sorted_series = sort_series(data, ascending=True)\n",
        "print(\"Original Series:\")\n",
        "print(data)\n",
        "print(\"\\nSorted Series (Ascending):\")\n",
        "print(sorted_series)\n",
        "\n",
        "sorted_series_desc = sort_series(data, ascending=False)\n",
        "print(\"\\nSorted Series (Descending):\")\n",
        "print(sorted_series_desc)\n"
      ],
      "metadata": {
        "colab": {
          "base_uri": "https://localhost:8080/"
        },
        "id": "jFd57ijeayLL",
        "outputId": "ae1a739a-96bc-4cc4-92ec-3992c74334b8"
      },
      "execution_count": 16,
      "outputs": [
        {
          "output_type": "stream",
          "name": "stdout",
          "text": [
            "Original Series:\n",
            "0    5\n",
            "1    3\n",
            "2    8\n",
            "3    1\n",
            "4    9\n",
            "dtype: int64\n",
            "\n",
            "Sorted Series (Ascending):\n",
            "0    1\n",
            "1    3\n",
            "2    5\n",
            "3    8\n",
            "4    9\n",
            "dtype: int64\n",
            "\n",
            "Sorted Series (Descending):\n",
            "0    9\n",
            "1    8\n",
            "2    5\n",
            "3    3\n",
            "4    1\n",
            "dtype: int64\n"
          ]
        }
      ]
    },
    {
      "cell_type": "markdown",
      "source": [
        "Panda data frame"
      ],
      "metadata": {
        "id": "dLAQufN7bFVO"
      }
    },
    {
      "cell_type": "markdown",
      "source": [
        "1.Write a Pandas program to create a dataframe from a dictionary and display it."
      ],
      "metadata": {
        "id": "rqNlY1lNbT7e"
      }
    },
    {
      "cell_type": "code",
      "source": [
        "import pandas as pd\n",
        "\n",
        "data = {\n",
        "    'Name': ['Alice', 'Bob', 'Charlie', 'David'],\n",
        "    'Age': [25, 30, 35, 40],\n",
        "    'City': ['New York', 'Los Angeles', 'Chicago', 'Houston']\n",
        "}\n",
        "\n",
        "\n",
        "df = pd.DataFrame(data)\n",
        "\n",
        "print(\"DataFrame created from dictionary:\")\n",
        "print(df)\n"
      ],
      "metadata": {
        "colab": {
          "base_uri": "https://localhost:8080/"
        },
        "id": "LHLZOvI-bWkT",
        "outputId": "179e7c27-875f-4f49-cf9f-9a2d082528d6"
      },
      "execution_count": 17,
      "outputs": [
        {
          "output_type": "stream",
          "name": "stdout",
          "text": [
            "DataFrame created from dictionary:\n",
            "      Name  Age         City\n",
            "0    Alice   25     New York\n",
            "1      Bob   30  Los Angeles\n",
            "2  Charlie   35      Chicago\n",
            "3    David   40      Houston\n"
          ]
        }
      ]
    },
    {
      "cell_type": "markdown",
      "source": [
        "2. Write a Pandas program to create and display a DataFrame from a specified dictionary data which has the index labels."
      ],
      "metadata": {
        "id": "wnvs6_ZEbiG9"
      }
    },
    {
      "cell_type": "code",
      "source": [
        "import pandas as pd\n",
        "import numpy as np\n",
        "\n",
        "\n",
        "exam_data = {\n",
        "    'name': ['Anastasia', 'Dima', 'Katherine', 'James', 'Emily', 'Michael', 'Matthew', 'Laura', 'Kevin', 'Jonas'],\n",
        "    'score': [12.5, 9, 16.5, np.nan, 9, 20, 14.5, np.nan, 8, 19],\n",
        "    'attempts': [1, 3, 2, 3, 2, 3, 1, 1, 2, 1],\n",
        "    'qualify': ['yes', 'no', 'yes', 'no', 'no', 'yes', 'yes', 'no', 'no', 'yes']\n",
        "}\n",
        "labels = ['a', 'b', 'c', 'd', 'e', 'f', 'g', 'h', 'i', 'j']\n",
        "\n",
        "\n",
        "df = pd.DataFrame(exam_data, index=labels)\n",
        "\n",
        "\n",
        "print(\"DataFrame created from dictionary with index labels:\")\n",
        "print(df)\n",
        "\n"
      ],
      "metadata": {
        "colab": {
          "base_uri": "https://localhost:8080/"
        },
        "id": "7Sg2vwzfbkpD",
        "outputId": "9182389f-d697-4c76-b550-4676345e1f08"
      },
      "execution_count": 20,
      "outputs": [
        {
          "output_type": "stream",
          "name": "stdout",
          "text": [
            "DataFrame created from dictionary with index labels:\n",
            "        name  score  attempts qualify\n",
            "a  Anastasia   12.5         1     yes\n",
            "b       Dima    9.0         3      no\n",
            "c  Katherine   16.5         2     yes\n",
            "d      James    NaN         3      no\n",
            "e      Emily    9.0         2      no\n",
            "f    Michael   20.0         3     yes\n",
            "g    Matthew   14.5         1     yes\n",
            "h      Laura    NaN         1      no\n",
            "i      Kevin    8.0         2      no\n",
            "j      Jonas   19.0         1     yes\n"
          ]
        }
      ]
    },
    {
      "cell_type": "markdown",
      "source": [
        "3. Write a Pandas program to get the first 3 rows of a given DataFrame."
      ],
      "metadata": {
        "id": "BUjqOOw5cO0N"
      }
    },
    {
      "cell_type": "code",
      "source": [
        "import pandas as pd\n",
        "import numpy as np\n",
        "\n",
        "exam_data = {\n",
        "    'name': ['Anastasia', 'Dima', 'Katherine', 'James', 'Emily', 'Michael', 'Matthew', 'Laura', 'Kevin', 'Jonas'],\n",
        "    'score': [12.5, 9, 16.5, np.nan, 9, 20, 14.5, np.nan, 8, 19],\n",
        "    'attempts': [1, 3, 2, 3, 2, 3, 1, 1, 2, 1],\n",
        "    'qualify': ['yes', 'no', 'yes', 'no', 'no', 'yes', 'yes', 'no', 'no', 'yes']\n",
        "}\n",
        "labels = ['a', 'b', 'c', 'd', 'e', 'f', 'g', 'h', 'i', 'j']\n",
        "\n",
        "\n",
        "df = pd.DataFrame(exam_data, index=labels)\n",
        "\n",
        "\n",
        "first_3_rows = df.head(3)\n",
        "\n",
        "print(\"First 3 rows of the DataFrame:\")\n",
        "print(first_3_rows)\n"
      ],
      "metadata": {
        "colab": {
          "base_uri": "https://localhost:8080/"
        },
        "id": "tYqpXd3ocWY9",
        "outputId": "0ff6c376-a8ea-4149-df1c-d61cb285797c"
      },
      "execution_count": 21,
      "outputs": [
        {
          "output_type": "stream",
          "name": "stdout",
          "text": [
            "First 3 rows of the DataFrame:\n",
            "        name  score  attempts qualify\n",
            "a  Anastasia   12.5         1     yes\n",
            "b       Dima    9.0         3      no\n",
            "c  Katherine   16.5         2     yes\n"
          ]
        }
      ]
    },
    {
      "cell_type": "markdown",
      "source": [
        "4.Write a Pandas program to select the 'name' and 'score' columns from the following DataFrame."
      ],
      "metadata": {
        "id": "XnWKSshccf3c"
      }
    },
    {
      "cell_type": "code",
      "source": [
        "import pandas as pd\n",
        "import numpy as np\n",
        "\n",
        "\n",
        "exam_data = {\n",
        "    'name': ['Anastasia', 'Dima', 'Katherine', 'James', 'Emily', 'Michael', 'Matthew', 'Laura', 'Kevin', 'Jonas'],\n",
        "    'score': [12.5, 9, 16.5, np.nan, 9, 20, 14.5, np.nan, 8, 19],\n",
        "    'attempts': [1, 3, 2, 3, 2, 3, 1, 1, 2, 1],\n",
        "    'qualify': ['yes', 'no', 'yes', 'no', 'no', 'yes', 'yes', 'no', 'no', 'yes']\n",
        "}\n",
        "labels = ['a', 'b', 'c', 'd', 'e', 'f', 'g', 'h', 'i', 'j']\n",
        "\n",
        "\n",
        "df = pd.DataFrame(exam_data, index=labels)\n",
        "\n",
        "selected_columns = df[['name', 'score']]\n",
        "\n",
        "print(\"Selected 'name' and 'score' columns:\")\n",
        "print(selected_columns)\n"
      ],
      "metadata": {
        "colab": {
          "base_uri": "https://localhost:8080/"
        },
        "id": "mi-F0i_xcini",
        "outputId": "74e20b28-b4e8-4b17-e3c5-5a776767856f"
      },
      "execution_count": 22,
      "outputs": [
        {
          "output_type": "stream",
          "name": "stdout",
          "text": [
            "Selected 'name' and 'score' columns:\n",
            "        name  score\n",
            "a  Anastasia   12.5\n",
            "b       Dima    9.0\n",
            "c  Katherine   16.5\n",
            "d      James    NaN\n",
            "e      Emily    9.0\n",
            "f    Michael   20.0\n",
            "g    Matthew   14.5\n",
            "h      Laura    NaN\n",
            "i      Kevin    8.0\n",
            "j      Jonas   19.0\n"
          ]
        }
      ]
    },
    {
      "cell_type": "markdown",
      "source": [
        "5. Write a Pandas program to select the specified columns and rows from a given data frame."
      ],
      "metadata": {
        "id": "5OaS_XjXcvpX"
      }
    },
    {
      "cell_type": "code",
      "source": [
        "import pandas as pd\n",
        "import numpy as np\n",
        "\n",
        "\n",
        "exam_data = {\n",
        "    'name': ['Anastasia', 'Dima', 'Katherine', 'James', 'Emily', 'Michael', 'Matthew', 'Laura', 'Kevin', 'Jonas'],\n",
        "    'score': [12.5, 9, 16.5, np.nan, 9, 20, 14.5, np.nan, 8, 19],\n",
        "    'attempts': [1, 3, 2, 3, 2, 3, 1, 1, 2, 1],\n",
        "    'qualify': ['yes', 'no', 'yes', 'no', 'no', 'yes', 'yes', 'no', 'no', 'yes']\n",
        "}\n",
        "labels = ['a', 'b', 'c', 'd', 'e', 'f', 'g', 'h', 'i', 'j']\n",
        "\n",
        "\n",
        "df = pd.DataFrame(exam_data, index=labels)\n",
        "\n",
        "\n",
        "rows_to_select = ['b', 'd', 'f', 'g']\n",
        "\n",
        "\n",
        "selected_data = df.loc[rows_to_select, ['name', 'score']]\n",
        "\n",
        "\n",
        "print(\"Selected 'name' and 'score' columns for rows 1, 3, 5, 6:\")\n",
        "print(selected_data)\n"
      ],
      "metadata": {
        "colab": {
          "base_uri": "https://localhost:8080/"
        },
        "id": "2yIZ-UMjczCy",
        "outputId": "df7cd858-97bb-4d0e-e7c6-b15a60e48b8c"
      },
      "execution_count": 23,
      "outputs": [
        {
          "output_type": "stream",
          "name": "stdout",
          "text": [
            "Selected 'name' and 'score' columns for rows 1, 3, 5, 6:\n",
            "      name  score\n",
            "b     Dima    9.0\n",
            "d    James    NaN\n",
            "f  Michael   20.0\n",
            "g  Matthew   14.5\n"
          ]
        }
      ]
    },
    {
      "cell_type": "markdown",
      "source": [
        "6. Write a Pandas program to select the rows where the number of attempts in the examination is greater than 2."
      ],
      "metadata": {
        "id": "NiYkgCNHdAO1"
      }
    },
    {
      "cell_type": "code",
      "source": [
        "import pandas as pd\n",
        "import numpy as np\n",
        "\n",
        "exam_data = {\n",
        "    'name': ['Anastasia', 'Dima', 'Katherine', 'James', 'Emily', 'Michael', 'Matthew', 'Laura', 'Kevin', 'Jonas'],\n",
        "    'score': [12.5, 9, 16.5, np.nan, 9, 20, 14.5, np.nan, 8, 19],\n",
        "    'attempts': [1, 3, 2, 3, 2, 3, 1, 1, 2, 1],\n",
        "    'qualify': ['yes', 'no', 'yes', 'no', 'no', 'yes', 'yes', 'no', 'no', 'yes']\n",
        "}\n",
        "labels = ['a', 'b', 'c', 'd', 'e', 'f', 'g', 'h', 'i', 'j']\n",
        "\n",
        "df = pd.DataFrame(exam_data, index=labels)\n",
        "\n",
        "filtered_df = df[df['attempts'] > 2]\n",
        "\n",
        "\n",
        "print(\"Rows where the number of attempts is greater than 2:\")\n",
        "print(filtered_df)\n"
      ],
      "metadata": {
        "colab": {
          "base_uri": "https://localhost:8080/"
        },
        "id": "zm-e-EP-dRF1",
        "outputId": "65477ed6-6803-4ba0-9653-09ee8d31623d"
      },
      "execution_count": 24,
      "outputs": [
        {
          "output_type": "stream",
          "name": "stdout",
          "text": [
            "Rows where the number of attempts is greater than 2:\n",
            "      name  score  attempts qualify\n",
            "b     Dima    9.0         3      no\n",
            "d    James    NaN         3      no\n",
            "f  Michael   20.0         3     yes\n"
          ]
        }
      ]
    },
    {
      "cell_type": "markdown",
      "source": [
        "\n",
        "7. Write a Pandas program to select the rows where the score is missing, i.e. is NaN."
      ],
      "metadata": {
        "id": "xDBi-HSsdYz-"
      }
    },
    {
      "cell_type": "code",
      "source": [
        "import pandas as pd\n",
        "import numpy as np\n",
        "\n",
        "exam_data = {\n",
        "    'name': ['Anastasia', 'Dima', 'Katherine', 'James', 'Emily', 'Michael', 'Matthew', 'Laura', 'Kevin', 'Jonas'],\n",
        "    'score': [12.5, 9, 16.5, np.nan, 9, 20, 14.5, np.nan, 8, 19],\n",
        "    'attempts': [1, 3, 2, 3, 2, 3, 1, 1, 2, 1],\n",
        "    'qualify': ['yes', 'no', 'yes', 'no', 'no', 'yes', 'yes', 'no', 'no', 'yes']\n",
        "}\n",
        "labels = ['a', 'b', 'c', 'd', 'e', 'f', 'g', 'h', 'i', 'j']\n",
        "\n",
        "df = pd.DataFrame(exam_data, index=labels)\n",
        "\n",
        "\n",
        "missing_score_df = df[df['score'].isna()]\n",
        "\n",
        "\n",
        "print(\"Rows where the score is missing (NaN):\")\n",
        "print(missing_score_df)\n"
      ],
      "metadata": {
        "colab": {
          "base_uri": "https://localhost:8080/"
        },
        "id": "m6k0Uzktdbgv",
        "outputId": "bc7d9ed8-3331-4063-baf0-9f343d13b57f"
      },
      "execution_count": 25,
      "outputs": [
        {
          "output_type": "stream",
          "name": "stdout",
          "text": [
            "Rows where the score is missing (NaN):\n",
            "    name  score  attempts qualify\n",
            "d  James    NaN         3      no\n",
            "h  Laura    NaN         1      no\n"
          ]
        }
      ]
    },
    {
      "cell_type": "markdown",
      "source": [
        "8. Write a Pandas program to select the rows the score is between 15 and 20 (inclusive)."
      ],
      "metadata": {
        "id": "puyoQRAndpZ8"
      }
    },
    {
      "cell_type": "code",
      "source": [
        "import pandas as pd\n",
        "import numpy as np\n",
        "\n",
        "\n",
        "exam_data = {\n",
        "    'name': ['Anastasia', 'Dima', 'Katherine', 'James', 'Emily', 'Michael', 'Matthew', 'Laura', 'Kevin', 'Jonas'],\n",
        "    'score': [12.5, 9, 16.5, np.nan, 9, 20, 14.5, np.nan, 8, 19],\n",
        "    'attempts': [1, 3, 2, 3, 2, 3, 1, 1, 2, 1],\n",
        "    'qualify': ['yes', 'no', 'yes', 'no', 'no', 'yes', 'yes', 'no', 'no', 'yes']\n",
        "}\n",
        "labels = ['a', 'b', 'c', 'd', 'e', 'f', 'g', 'h', 'i', 'j']\n",
        "\n",
        "df = pd.DataFrame(exam_data, index=labels)\n",
        "\n",
        "\n",
        "filtered_df = df[(df['score'] >= 15) & (df['score'] <= 20)]\n",
        "\n",
        "\n",
        "print(\"Rows where the score is between 15 and 20 (inclusive):\")\n",
        "print(filtered_df)\n"
      ],
      "metadata": {
        "colab": {
          "base_uri": "https://localhost:8080/"
        },
        "id": "a8QF3P4EdvGn",
        "outputId": "c2eb065f-8e7f-4fb4-dc42-6cf888a90232"
      },
      "execution_count": 26,
      "outputs": [
        {
          "output_type": "stream",
          "name": "stdout",
          "text": [
            "Rows where the score is between 15 and 20 (inclusive):\n",
            "        name  score  attempts qualify\n",
            "c  Katherine   16.5         2     yes\n",
            "f    Michael   20.0         3     yes\n",
            "j      Jonas   19.0         1     yes\n"
          ]
        }
      ]
    },
    {
      "cell_type": "markdown",
      "source": [
        "9. Write a Pandas program to select the rows where number of attempts in the examination is less than 2 and score greater than 15."
      ],
      "metadata": {
        "id": "0EF6b4gUeLSO"
      }
    },
    {
      "cell_type": "code",
      "source": [
        "import pandas as pd\n",
        "import numpy as np\n",
        "\n",
        "\n",
        "exam_data = {\n",
        "    'name': ['Anastasia', 'Dima', 'Katherine', 'James', 'Emily', 'Michael', 'Matthew', 'Laura', 'Kevin', 'Jonas'],\n",
        "    'score': [12.5, 9, 16.5, np.nan, 9, 20, 14.5, np.nan, 8, 19],\n",
        "    'attempts': [1, 3, 2, 3, 2, 3, 1, 1, 2, 1],\n",
        "    'qualify': ['yes', 'no', 'yes', 'no', 'no', 'yes', 'yes', 'no', 'no', 'yes']\n",
        "}\n",
        "labels = ['a', 'b', 'c', 'd', 'e', 'f', 'g', 'h', 'i', 'j']\n",
        "\n",
        "\n",
        "df = pd.DataFrame(exam_data, index=labels)\n",
        "\n",
        "\n",
        "filtered_df = df[(df['attempts'] < 2) & (df['score'] > 15)]\n",
        "\n",
        "\n",
        "print(\"Rows where the number of attempts is less than 2 and the score is greater than 15:\")\n",
        "print(filtered_df)\n"
      ],
      "metadata": {
        "colab": {
          "base_uri": "https://localhost:8080/"
        },
        "id": "IT6G1-uzePyK",
        "outputId": "57ccc40a-e023-4cf1-f40d-d07d34e2b883"
      },
      "execution_count": 28,
      "outputs": [
        {
          "output_type": "stream",
          "name": "stdout",
          "text": [
            "Rows where the number of attempts is less than 2 and the score is greater than 15:\n",
            "    name  score  attempts qualify\n",
            "j  Jonas   19.0         1     yes\n"
          ]
        }
      ]
    },
    {
      "cell_type": "markdown",
      "source": [
        "10. Write a Pandas program to change the score in row 'd' to 11.5."
      ],
      "metadata": {
        "id": "8tCZAtI9eOIN"
      }
    },
    {
      "cell_type": "code",
      "source": [
        "import pandas as pd\n",
        "import numpy as np\n",
        "\n",
        "\n",
        "exam_data = {\n",
        "    'name': ['Anastasia', 'Dima', 'Katherine', 'James', 'Emily', 'Michael', 'Matthew', 'Laura', 'Kevin', 'Jonas'],\n",
        "    'score': [12.5, 9, 16.5, np.nan, 9, 20, 14.5, np.nan, 8, 19],\n",
        "    'attempts': [1, 3, 2, 3, 2, 3, 1, 1, 2, 1],\n",
        "    'qualify': ['yes', 'no', 'yes', 'no', 'no', 'yes', 'yes', 'no', 'no', 'yes']\n",
        "}\n",
        "labels = ['a', 'b', 'c', 'd', 'e', 'f', 'g', 'h', 'i', 'j']\n",
        "\n",
        "df = pd.DataFrame(exam_data, index=labels)\n",
        "\n",
        "\n",
        "filtered_df = df[(df['attempts'] < 2) & (df['score'] > 15)]\n",
        "\n",
        "\n",
        "print(\"Rows where the number of attempts is less than 2 and the score is greater than 15:\")\n",
        "print(filtered_df)\n"
      ],
      "metadata": {
        "colab": {
          "base_uri": "https://localhost:8080/"
        },
        "id": "SCDrX0v8e2hU",
        "outputId": "7110b1fe-b5ee-4a55-f022-daa4d11d1b33"
      },
      "execution_count": 29,
      "outputs": [
        {
          "output_type": "stream",
          "name": "stdout",
          "text": [
            "Rows where the number of attempts is less than 2 and the score is greater than 15:\n",
            "    name  score  attempts qualify\n",
            "j  Jonas   19.0         1     yes\n"
          ]
        }
      ]
    },
    {
      "cell_type": "markdown",
      "source": [
        "11. Write a Pandas program to calculate the sum of the examination attempts by the students."
      ],
      "metadata": {
        "id": "h3LoKC6dfZAO"
      }
    },
    {
      "cell_type": "code",
      "source": [
        "import pandas as pd\n",
        "import numpy as np\n",
        "\n",
        "\n",
        "exam_data = {\n",
        "    'name': ['Anastasia', 'Dima', 'Katherine', 'James', 'Emily', 'Michael', 'Matthew', 'Laura', 'Kevin', 'Jonas'],\n",
        "    'score': [12.5, 9, 16.5, np.nan, 9, 20, 14.5, np.nan, 8, 19],\n",
        "    'attempts': [1, 3, 2, 3, 2, 3, 1, 1, 2, 1],\n",
        "    'qualify': ['yes', 'no', 'yes', 'no', 'no', 'yes', 'yes', 'no', 'no', 'yes']\n",
        "}\n",
        "labels = ['a', 'b', 'c', 'd', 'e', 'f', 'g', 'h', 'i', 'j']\n",
        "\n",
        "\n",
        "df = pd.DataFrame(exam_data, index=labels)\n",
        "\n",
        "total_attempts = df['attempts'].sum()\n",
        "\n",
        "\n",
        "print(\"Sum of the examination attempts by the students:\")\n",
        "print(total_attempts)\n"
      ],
      "metadata": {
        "colab": {
          "base_uri": "https://localhost:8080/"
        },
        "id": "3MDAQCzAfdkj",
        "outputId": "f76a8e62-29a7-4dfc-f783-a61ab7595dea"
      },
      "execution_count": 30,
      "outputs": [
        {
          "output_type": "stream",
          "name": "stdout",
          "text": [
            "Sum of the examination attempts by the students:\n",
            "19\n"
          ]
        }
      ]
    },
    {
      "cell_type": "markdown",
      "source": [
        "12. Write a Pandas program to calculate the mean of all students' scores. Data is stored in a dataframe."
      ],
      "metadata": {
        "id": "N-mKX5BifshJ"
      }
    },
    {
      "cell_type": "code",
      "source": [
        "import pandas as pd\n",
        "import numpy as np\n",
        "\n",
        "\n",
        "exam_data = {\n",
        "    'name': ['Anastasia', 'Dima', 'Katherine', 'James', 'Emily', 'Michael', 'Matthew', 'Laura', 'Kevin', 'Jonas'],\n",
        "    'score': [12.5, 9, 16.5, np.nan, 9, 20, 14.5, np.nan, 8, 19],\n",
        "    'attempts': [1, 3, 2, 3, 2, 3, 1, 1, 2, 1],\n",
        "    'qualify': ['yes', 'no', 'yes', 'no', 'no', 'yes', 'yes', 'no', 'no', 'yes']\n",
        "}\n",
        "labels = ['a', 'b', 'c', 'd', 'e', 'f', 'g', 'h', 'i', 'j']\n",
        "\n",
        "\n",
        "df = pd.DataFrame(exam_data, index=labels)\n",
        "\n",
        "\n",
        "mean_score = df['score'].mean()\n",
        "\n",
        "print(\"Mean of all students' scores:\")\n",
        "print(mean_score)\n"
      ],
      "metadata": {
        "colab": {
          "base_uri": "https://localhost:8080/"
        },
        "id": "G6c9WVHkf1RH",
        "outputId": "752c4b8f-a718-4702-c353-b7884bce7519"
      },
      "execution_count": 31,
      "outputs": [
        {
          "output_type": "stream",
          "name": "stdout",
          "text": [
            "Mean of all students' scores:\n",
            "13.5625\n"
          ]
        }
      ]
    },
    {
      "cell_type": "markdown",
      "source": [
        "13. Write a Pandas program to replace the 'qualify' column contains the values 'yes' and 'no' with True and False."
      ],
      "metadata": {
        "id": "9jHV8MAhf68M"
      }
    },
    {
      "cell_type": "code",
      "source": [
        "import pandas as pd\n",
        "import numpy as np\n",
        "\n",
        "\n",
        "exam_data = {\n",
        "    'name': ['Anastasia', 'Dima', 'Katherine', 'James', 'Emily', 'Michael', 'Matthew', 'Laura', 'Kevin', 'Jonas'],\n",
        "    'score': [12.5, 9, 16.5, np.nan, 9, 20, 14.5, np.nan, 8, 19],\n",
        "    'attempts': [1, 3, 2, 3, 2, 3, 1, 1, 2, 1],\n",
        "    'qualify': ['yes', 'no', 'yes', 'no', 'no', 'yes', 'yes', 'no', 'no', 'yes']\n",
        "}\n",
        "labels = ['a', 'b', 'c', 'd', 'e', 'f', 'g', 'h', 'i', 'j']\n",
        "\n",
        "\n",
        "df = pd.DataFrame(exam_data, index=labels)\n",
        "\n",
        "df['qualify'] = df['qualify'].replace({'yes': True, 'no': False})\n",
        "\n",
        "print(\"DataFrame with 'qualify' column updated:\")\n",
        "print(df)\n"
      ],
      "metadata": {
        "colab": {
          "base_uri": "https://localhost:8080/"
        },
        "id": "TnH77jZ_gFRJ",
        "outputId": "40aff1ea-2e8e-470c-9a14-c505378a9e7a"
      },
      "execution_count": 32,
      "outputs": [
        {
          "output_type": "stream",
          "name": "stdout",
          "text": [
            "DataFrame with 'qualify' column updated:\n",
            "        name  score  attempts  qualify\n",
            "a  Anastasia   12.5         1     True\n",
            "b       Dima    9.0         3    False\n",
            "c  Katherine   16.5         2     True\n",
            "d      James    NaN         3    False\n",
            "e      Emily    9.0         2    False\n",
            "f    Michael   20.0         3     True\n",
            "g    Matthew   14.5         1     True\n",
            "h      Laura    NaN         1    False\n",
            "i      Kevin    8.0         2    False\n",
            "j      Jonas   19.0         1     True\n"
          ]
        }
      ]
    },
    {
      "cell_type": "markdown",
      "source": [
        "14. Write a Pandas program to change the name 'James' to 'Suresh' in name column of the DataFrame."
      ],
      "metadata": {
        "id": "9kuMBzfVgKkd"
      }
    },
    {
      "cell_type": "code",
      "source": [
        "import pandas as pd\n",
        "import numpy as np\n",
        "\n",
        "exam_data = {\n",
        "    'name': ['Anastasia', 'Dima', 'Katherine', 'James', 'Emily', 'Michael', 'Matthew', 'Laura', 'Kevin', 'Jonas'],\n",
        "    'score': [12.5, 9, 16.5, np.nan, 9, 20, 14.5, np.nan, 8, 19],\n",
        "    'attempts': [1, 3, 2, 3, 2, 3, 1, 1, 2, 1],\n",
        "    'qualify': ['yes', 'no', 'yes', 'no', 'no', 'yes', 'yes', 'no', 'no', 'yes']\n",
        "}\n",
        "labels = ['a', 'b', 'c', 'd', 'e', 'f', 'g', 'h', 'i', 'j']\n",
        "\n",
        "\n",
        "df = pd.DataFrame(exam_data, index=labels)\n",
        "\n",
        "\n",
        "df['name'] = df['name'].replace('James', 'Suresh')\n",
        "\n",
        "\n",
        "print(\"DataFrame with 'James' changed to 'Suresh':\")\n",
        "print(df)\n"
      ],
      "metadata": {
        "colab": {
          "base_uri": "https://localhost:8080/"
        },
        "id": "iUbbXkpbgR4S",
        "outputId": "164e673b-096f-49a7-9a0c-d5d0628401c5"
      },
      "execution_count": 33,
      "outputs": [
        {
          "output_type": "stream",
          "name": "stdout",
          "text": [
            "DataFrame with 'James' changed to 'Suresh':\n",
            "        name  score  attempts qualify\n",
            "a  Anastasia   12.5         1     yes\n",
            "b       Dima    9.0         3      no\n",
            "c  Katherine   16.5         2     yes\n",
            "d     Suresh    NaN         3      no\n",
            "e      Emily    9.0         2      no\n",
            "f    Michael   20.0         3     yes\n",
            "g    Matthew   14.5         1     yes\n",
            "h      Laura    NaN         1      no\n",
            "i      Kevin    8.0         2      no\n",
            "j      Jonas   19.0         1     yes\n"
          ]
        }
      ]
    },
    {
      "cell_type": "markdown",
      "source": [
        "15. Write a Pandas program to delete the 'attempts' column from the DataFrame."
      ],
      "metadata": {
        "id": "bw9fgRvEgfwK"
      }
    },
    {
      "cell_type": "code",
      "source": [
        "import pandas as pd\n",
        "import numpy as np\n",
        "\n",
        "exam_data = {\n",
        "    'name': ['Anastasia', 'Dima', 'Katherine', 'James', 'Emily', 'Michael', 'Matthew', 'Laura', 'Kevin', 'Jonas'],\n",
        "    'score': [12.5, 9, 16.5, np.nan, 9, 20, 14.5, np.nan, 8, 19],\n",
        "    'attempts': [1, 3, 2, 3, 2, 3, 1, 1, 2, 1],\n",
        "    'qualify': ['yes', 'no', 'yes', 'no', 'no', 'yes', 'yes', 'no', 'no', 'yes']\n",
        "}\n",
        "labels = ['a', 'b', 'c', 'd', 'e', 'f', 'g', 'h', 'i', 'j']\n",
        "\n",
        "df = pd.DataFrame(exam_data, index=labels)\n",
        "\n",
        "\n",
        "df = df.drop('attempts', axis=1)\n",
        "\n",
        "print(\"DataFrame with 'attempts' column deleted:\")\n",
        "print(df)\n"
      ],
      "metadata": {
        "colab": {
          "base_uri": "https://localhost:8080/"
        },
        "id": "RINuywHsgn4i",
        "outputId": "829bf94b-f66b-4194-d8d5-39de12448f29"
      },
      "execution_count": 34,
      "outputs": [
        {
          "output_type": "stream",
          "name": "stdout",
          "text": [
            "DataFrame with 'attempts' column deleted:\n",
            "        name  score qualify\n",
            "a  Anastasia   12.5     yes\n",
            "b       Dima    9.0      no\n",
            "c  Katherine   16.5     yes\n",
            "d      James    NaN      no\n",
            "e      Emily    9.0      no\n",
            "f    Michael   20.0     yes\n",
            "g    Matthew   14.5     yes\n",
            "h      Laura    NaN      no\n",
            "i      Kevin    8.0      no\n",
            "j      Jonas   19.0     yes\n"
          ]
        }
      ]
    },
    {
      "cell_type": "markdown",
      "source": [
        "16. Write a Pandas program to insert a new column in existing DataFrame."
      ],
      "metadata": {
        "id": "k4_nuMfNgwxB"
      }
    },
    {
      "cell_type": "code",
      "source": [
        "import pandas as pd\n",
        "import numpy as np\n",
        "\n",
        "\n",
        "exam_data = {\n",
        "    'name': ['Anastasia', 'Dima', 'Katherine', 'James', 'Emily', 'Michael', 'Matthew', 'Laura', 'Kevin', 'Jonas'],\n",
        "    'score': [12.5, 9, 16.5, np.nan, 9, 20, 14.5, np.nan, 8, 19],\n",
        "    'attempts': [1, 3, 2, 3, 2, 3, 1, 1, 2, 1],\n",
        "    'qualify': ['yes', 'no', 'yes', 'no', 'no', 'yes', 'yes', 'no', 'no', 'yes']\n",
        "}\n",
        "labels = ['a', 'b', 'c', 'd', 'e', 'f', 'g', 'h', 'i', 'j']\n",
        "\n",
        "\n",
        "df = pd.DataFrame(exam_data, index=labels)\n",
        "\n",
        "\n",
        "df['pass_status'] = df['score'] >= 10\n",
        "\n",
        "\n",
        "print(\"DataFrame with new 'pass_status' column inserted:\")\n",
        "print(df)\n"
      ],
      "metadata": {
        "colab": {
          "base_uri": "https://localhost:8080/"
        },
        "id": "8V4uMpYSg6Lc",
        "outputId": "e1eefc9e-179d-4280-cedd-6bf247248eda"
      },
      "execution_count": 35,
      "outputs": [
        {
          "output_type": "stream",
          "name": "stdout",
          "text": [
            "DataFrame with new 'pass_status' column inserted:\n",
            "        name  score  attempts qualify  pass_status\n",
            "a  Anastasia   12.5         1     yes         True\n",
            "b       Dima    9.0         3      no        False\n",
            "c  Katherine   16.5         2     yes         True\n",
            "d      James    NaN         3      no        False\n",
            "e      Emily    9.0         2      no        False\n",
            "f    Michael   20.0         3     yes         True\n",
            "g    Matthew   14.5         1     yes         True\n",
            "h      Laura    NaN         1      no        False\n",
            "i      Kevin    8.0         2      no        False\n",
            "j      Jonas   19.0         1     yes         True\n"
          ]
        }
      ]
    },
    {
      "cell_type": "markdown",
      "source": [
        "17. Write a Pandas program to rename columns of a given DataFrame"
      ],
      "metadata": {
        "id": "MkImw1EvhBjg"
      }
    },
    {
      "cell_type": "code",
      "source": [
        "import pandas as pd\n",
        "\n",
        "df = pd.DataFrame({\n",
        "    'col1': [1, 2, 3],\n",
        "    'col2': [4, 5, 6],\n",
        "    'col3': [7, 8, 9]\n",
        "})\n",
        "\n",
        "df_renamed = df.rename(columns={'col1': 'Column1', 'col2': 'Column2', 'col3': 'Column3'})\n",
        "\n",
        "print(\"New DataFrame after renaming columns using .rename():\")\n",
        "print(df_renamed)\n"
      ],
      "metadata": {
        "colab": {
          "base_uri": "https://localhost:8080/"
        },
        "id": "8494vO-dhCly",
        "outputId": "9495d15d-77e7-40b7-a048-8b701858de1c"
      },
      "execution_count": 36,
      "outputs": [
        {
          "output_type": "stream",
          "name": "stdout",
          "text": [
            "New DataFrame after renaming columns using .rename():\n",
            "   Column1  Column2  Column3\n",
            "0        1        4        7\n",
            "1        2        5        8\n",
            "2        3        6        9\n"
          ]
        }
      ]
    },
    {
      "cell_type": "markdown",
      "source": [
        "18. Write a Pandas program to select rows from a given DataFrame based on values in some columns."
      ],
      "metadata": {
        "id": "9SmNjkBWhNsn"
      }
    },
    {
      "cell_type": "code",
      "source": [
        "import pandas as pd\n",
        "\n",
        "\n",
        "df = pd.DataFrame({\n",
        "    'col1': [1, 4, 3, 4, 5],\n",
        "    'col2': [4, 5, 6, 7, 8],\n",
        "    'col3': [7, 8, 9, 0, 1]\n",
        "})\n",
        "\n",
        "filtered_df = df[df['col1'] == 4]\n",
        "\n",
        "\n",
        "print(\"Rows where 'col1' value is 4:\")\n",
        "print(filtered_df)\n"
      ],
      "metadata": {
        "colab": {
          "base_uri": "https://localhost:8080/"
        },
        "id": "9wPqNxIQhQmJ",
        "outputId": "9fc27793-06bc-47ec-99d0-ffdc883e4918"
      },
      "execution_count": 37,
      "outputs": [
        {
          "output_type": "stream",
          "name": "stdout",
          "text": [
            "Rows where 'col1' value is 4:\n",
            "   col1  col2  col3\n",
            "1     4     5     8\n",
            "3     4     7     0\n"
          ]
        }
      ]
    },
    {
      "cell_type": "markdown",
      "source": [
        "19. Write a Pandas program to add one row in an existing DataFrame."
      ],
      "metadata": {
        "id": "jyHY0XV0heHh"
      }
    },
    {
      "cell_type": "code",
      "source": [
        "import pandas as pd\n",
        "\n",
        "# Original DataFrame\n",
        "df = pd.DataFrame({\n",
        "    'col1': [1, 4, 3, 4, 5],\n",
        "    'col2': [4, 5, 6, 7, 8],\n",
        "    'col3': [7, 8, 9, 0, 1]\n",
        "})\n",
        "\n",
        "# New row to be added\n",
        "new_row = pd.DataFrame({'col1': [10], 'col2': [11], 'col3': [12]})\n",
        "\n",
        "# Add the new row to the existing DataFrame\n",
        "df_updated = pd.concat([df, new_row], ignore_index=True)\n",
        "\n",
        "# Display the updated DataFrame\n",
        "print(\"DataFrame after adding one row:\")\n",
        "print(df_updated)\n"
      ],
      "metadata": {
        "colab": {
          "base_uri": "https://localhost:8080/"
        },
        "id": "ZDqqdAYohfIq",
        "outputId": "3bf8da38-8c7a-469e-98ef-58de41187f23"
      },
      "execution_count": 38,
      "outputs": [
        {
          "output_type": "stream",
          "name": "stdout",
          "text": [
            "DataFrame after adding one row:\n",
            "   col1  col2  col3\n",
            "0     1     4     7\n",
            "1     4     5     8\n",
            "2     3     6     9\n",
            "3     4     7     0\n",
            "4     5     8     1\n",
            "5    10    11    12\n"
          ]
        }
      ]
    },
    {
      "cell_type": "markdown",
      "source": [
        "20. Write a Pandas program to replace all the NaN values with Zero's in a column of a dataframe."
      ],
      "metadata": {
        "id": "XeQ-1LF8hnrL"
      }
    },
    {
      "cell_type": "code",
      "source": [
        "import pandas as pd\n",
        "import numpy as np\n",
        "\n",
        "df = pd.DataFrame({\n",
        "    'attempts': [1, 3, 2, 3, 2, 3, 1, 1, 2, 1],\n",
        "    'name': ['Anastasia', 'Dima', 'Katherine', 'James', 'Emily', 'Michael', 'Matthew', 'Laura', 'Kevin', 'Jonas'],\n",
        "    'qualify': ['yes', 'no', 'yes', 'no', 'no', 'yes', 'yes', 'no', 'no', 'yes'],\n",
        "    'score': [12.5, 9.0, 16.5, np.nan, 9.0, 20.0, 14.5, np.nan, 8.0, 19.0]\n",
        "})\n",
        "\n",
        "df['score'] = df['score'].fillna(0)\n",
        "\n",
        "print(\"DataFrame after replacing NaN with 0 in 'score' column:\")\n",
        "print(df)\n"
      ],
      "metadata": {
        "colab": {
          "base_uri": "https://localhost:8080/"
        },
        "id": "xdbXujhVhzda",
        "outputId": "8df87af5-6777-43b4-d277-2797174f953e"
      },
      "execution_count": 39,
      "outputs": [
        {
          "output_type": "stream",
          "name": "stdout",
          "text": [
            "DataFrame after replacing NaN with 0 in 'score' column:\n",
            "   attempts       name qualify  score\n",
            "0         1  Anastasia     yes   12.5\n",
            "1         3       Dima      no    9.0\n",
            "2         2  Katherine     yes   16.5\n",
            "3         3      James      no    0.0\n",
            "4         2      Emily      no    9.0\n",
            "5         3    Michael     yes   20.0\n",
            "6         1    Matthew     yes   14.5\n",
            "7         1      Laura      no    0.0\n",
            "8         2      Kevin      no    8.0\n",
            "9         1      Jonas     yes   19.0\n"
          ]
        }
      ]
    },
    {
      "cell_type": "markdown",
      "source": [
        "21. Write a Pandas program to count the NaN values in one or more columns in DataFrame."
      ],
      "metadata": {
        "id": "sbQWqaVhh72e"
      }
    },
    {
      "cell_type": "code",
      "source": [
        "import pandas as pd\n",
        "import numpy as np\n",
        "\n",
        "df = pd.DataFrame({\n",
        "    'attempts': [1, 3, 2, 3, 2, 3, 1, 1, 2, 1],\n",
        "    'name': ['Anastasia', 'Dima', 'Katherine', 'James', 'Emily', 'Michael', 'Matthew', 'Laura', 'Kevin', 'Jonas'],\n",
        "    'qualify': ['yes', 'no', 'yes', 'no', 'no', 'yes', 'yes', 'no', 'no', 'yes'],\n",
        "    'score': [12.5, 9.0, 16.5, np.nan, 9.0, 20.0, 14.5, np.nan, 8.0, 19.0]\n",
        "})\n",
        "\n",
        "\n",
        "nan_count = df.isna().sum()\n",
        "\n",
        "print(\"Number of NaN values in each column:\")\n",
        "print(nan_count)\n"
      ],
      "metadata": {
        "colab": {
          "base_uri": "https://localhost:8080/"
        },
        "id": "uk5nyEtsh9HV",
        "outputId": "e0778747-4094-4373-bc32-597293095f6e"
      },
      "execution_count": 41,
      "outputs": [
        {
          "output_type": "stream",
          "name": "stdout",
          "text": [
            "Number of NaN values in each column:\n",
            "attempts    0\n",
            "name        0\n",
            "qualify     0\n",
            "score       2\n",
            "dtype: int64\n"
          ]
        }
      ]
    },
    {
      "cell_type": "markdown",
      "source": [
        "22. Write a Pandas program to drop a list of rows from a specified DataFrame."
      ],
      "metadata": {
        "id": "gM4SSKk_iNFQ"
      }
    },
    {
      "cell_type": "code",
      "source": [
        "import pandas as pd\n",
        "\n",
        "\n",
        "df = pd.DataFrame({\n",
        "    'col1': [1, 4, 3, 4, 5],\n",
        "    'col2': [4, 5, 6, 7, 8],\n",
        "    'col3': [7, 8, 9, 0, 1]\n",
        "})\n",
        "\n",
        "\n",
        "df_dropped = df.drop([1, 3])\n",
        "\n",
        "print(\"DataFrame after removing 2nd & 4th rows:\")\n",
        "print(df_dropped)\n"
      ],
      "metadata": {
        "colab": {
          "base_uri": "https://localhost:8080/"
        },
        "id": "_2hgBFm8iX1d",
        "outputId": "84efccb3-8c60-422f-f4dd-a2441365f5f1"
      },
      "execution_count": 42,
      "outputs": [
        {
          "output_type": "stream",
          "name": "stdout",
          "text": [
            "DataFrame after removing 2nd & 4th rows:\n",
            "   col1  col2  col3\n",
            "0     1     4     7\n",
            "2     3     6     9\n",
            "4     5     8     1\n"
          ]
        }
      ]
    },
    {
      "cell_type": "markdown",
      "source": [
        "23. Write a Pandas program to convert DataFrame column type from string to datetime."
      ],
      "metadata": {
        "id": "zadvAlRCibp_"
      }
    },
    {
      "cell_type": "code",
      "source": [
        "import pandas as pd\n",
        "\n",
        "df = pd.DataFrame({\n",
        "    0: ['3/11/2000', '3/12/2000', '3/13/2000']\n",
        "})\n",
        "\n",
        "\n",
        "df[0] = pd.to_datetime(df[0], format='%m/%d/%Y')\n",
        "\n",
        "\n",
        "print(\"Original DataFrame (string to datetime):\")\n",
        "print(df)\n"
      ],
      "metadata": {
        "colab": {
          "base_uri": "https://localhost:8080/"
        },
        "id": "o-FvCB6IipmP",
        "outputId": "f4dcc068-0b7f-4ef7-be16-eebadd7aadfd"
      },
      "execution_count": 43,
      "outputs": [
        {
          "output_type": "stream",
          "name": "stdout",
          "text": [
            "Original DataFrame (string to datetime):\n",
            "           0\n",
            "0 2000-03-11\n",
            "1 2000-03-12\n",
            "2 2000-03-13\n"
          ]
        }
      ]
    },
    {
      "cell_type": "markdown",
      "source": [
        "24. Write a Pandas program to find the row for where the value of a given column is maximum."
      ],
      "metadata": {
        "id": "28YIT1JBivEu"
      }
    },
    {
      "cell_type": "code",
      "source": [
        "import pandas as pd\n",
        "\n",
        "\n",
        "df = pd.DataFrame({\n",
        "    'col1': [1, 2, 3, 4, 7],\n",
        "    'col2': [4, 5, 6, 9, 5],\n",
        "    'col3': [7, 8, 12, 1, 11]\n",
        "})\n",
        "\n",
        "\n",
        "max_col1_idx = df['col1'].idxmax()\n",
        "\n",
        "\n",
        "max_col2_idx = df['col2'].idxmax()\n",
        "\n",
        "\n",
        "max_col3_idx = df['col3'].idxmax()\n",
        "\n",
        "\n",
        "print(\"Original DataFrame:\")\n",
        "print(df)\n",
        "print(\"\\nRow where col1 has maximum value:\")\n",
        "print(max_col1_idx)\n",
        "print(\"\\nRow where col2 has maximum value:\")\n",
        "print(max_col2_idx)\n",
        "print(\"\\nRow where col3 has maximum value:\")\n",
        "print(max_col3_idx)\n"
      ],
      "metadata": {
        "colab": {
          "base_uri": "https://localhost:8080/"
        },
        "id": "iu-IcU9Qi14Y",
        "outputId": "d30c6fd8-35d8-480a-c74c-bab4cfeb71a7"
      },
      "execution_count": 44,
      "outputs": [
        {
          "output_type": "stream",
          "name": "stdout",
          "text": [
            "Original DataFrame:\n",
            "   col1  col2  col3\n",
            "0     1     4     7\n",
            "1     2     5     8\n",
            "2     3     6    12\n",
            "3     4     9     1\n",
            "4     7     5    11\n",
            "\n",
            "Row where col1 has maximum value:\n",
            "4\n",
            "\n",
            "Row where col2 has maximum value:\n",
            "3\n",
            "\n",
            "Row where col3 has maximum value:\n",
            "2\n"
          ]
        }
      ]
    },
    {
      "cell_type": "markdown",
      "source": [
        "25. Write a Pandas program to get the datatypes of columns of a DataFrame."
      ],
      "metadata": {
        "id": "d16ud_k1i8js"
      }
    },
    {
      "cell_type": "code",
      "source": [
        "import pandas as pd\n",
        "import numpy as np\n",
        "\n",
        "\n",
        "df = pd.DataFrame({\n",
        "    'attempts': [1, 3, 2, 3, 2, 3, 1, 1, 2, 1],\n",
        "    'name': ['Anastasia', 'Dima', 'Katherine', 'James', 'Emily', 'Michael', 'Matthew', 'Laura', 'Kevin', 'Jonas'],\n",
        "    'qualify': ['yes', 'no', 'yes', 'no', 'no', 'yes', 'yes', 'no', 'no', 'yes'],\n",
        "    'score': [12.5, 9.0, 16.5, np.nan, 9.0, 20.0, 14.5, np.nan, 8.0, 19.0]\n",
        "})\n",
        "\n",
        "print(\"Original DataFrame:\")\n",
        "print(df)\n",
        "\n",
        "\n",
        "print(\"\\nData types of the columns of the said DataFrame:\")\n",
        "print(df.dtypes)\n"
      ],
      "metadata": {
        "colab": {
          "base_uri": "https://localhost:8080/"
        },
        "id": "cJpjdbchjFur",
        "outputId": "1f0ddf95-438a-46a0-e223-0f5def84a05a"
      },
      "execution_count": 45,
      "outputs": [
        {
          "output_type": "stream",
          "name": "stdout",
          "text": [
            "Original DataFrame:\n",
            "   attempts       name qualify  score\n",
            "0         1  Anastasia     yes   12.5\n",
            "1         3       Dima      no    9.0\n",
            "2         2  Katherine     yes   16.5\n",
            "3         3      James      no    NaN\n",
            "4         2      Emily      no    9.0\n",
            "5         3    Michael     yes   20.0\n",
            "6         1    Matthew     yes   14.5\n",
            "7         1      Laura      no    NaN\n",
            "8         2      Kevin      no    8.0\n",
            "9         1      Jonas     yes   19.0\n",
            "\n",
            "Data types of the columns of the said DataFrame:\n",
            "attempts      int64\n",
            "name         object\n",
            "qualify      object\n",
            "score       float64\n",
            "dtype: object\n"
          ]
        }
      ]
    },
    {
      "cell_type": "markdown",
      "source": [
        "26. Write a Pandas program to group by the first column and get second column as lists in rows."
      ],
      "metadata": {
        "id": "auImpAsbjLFy"
      }
    },
    {
      "cell_type": "code",
      "source": [
        "import pandas as pd\n",
        "\n",
        "\n",
        "df = pd.DataFrame({\n",
        "    'col1': ['C1', 'C1', 'C2', 'C2', 'C2', 'C3', 'C2'],\n",
        "    'col2': [1, 2, 3, 3, 4, 6, 5]\n",
        "})\n",
        "\n",
        "print(\"Original DataFrame:\")\n",
        "print(df)\n",
        "\n",
        "\n",
        "grouped_df = df.groupby('col1')['col2'].apply(list)\n",
        "\n",
        "print(\"\\nGroup on the col1:\")\n",
        "print(grouped_df)\n"
      ],
      "metadata": {
        "colab": {
          "base_uri": "https://localhost:8080/"
        },
        "id": "UaRkLMQRjTF8",
        "outputId": "a89f769a-e929-4141-c83b-b233459452fd"
      },
      "execution_count": 46,
      "outputs": [
        {
          "output_type": "stream",
          "name": "stdout",
          "text": [
            "Original DataFrame:\n",
            "  col1  col2\n",
            "0   C1     1\n",
            "1   C1     2\n",
            "2   C2     3\n",
            "3   C2     3\n",
            "4   C2     4\n",
            "5   C3     6\n",
            "6   C2     5\n",
            "\n",
            "Group on the col1:\n",
            "col1\n",
            "C1          [1, 2]\n",
            "C2    [3, 3, 4, 5]\n",
            "C3             [6]\n",
            "Name: col2, dtype: object\n"
          ]
        }
      ]
    },
    {
      "cell_type": "markdown",
      "source": [
        "27 Write a Pandas program to count number of columns of a DataFrame."
      ],
      "metadata": {
        "id": "MaJfR_tujYoI"
      }
    },
    {
      "cell_type": "code",
      "source": [
        "import pandas as pd\n",
        "\n",
        "df = pd.DataFrame({\n",
        "    'col1': [1, 2, 3, 4, 7],\n",
        "    'col2': [4, 5, 6, 9, 5],\n",
        "    'col3': [7, 8, 12, 1, 11]\n",
        "})\n",
        "\n",
        "\n",
        "print(\"Original DataFrame:\")\n",
        "print(df)\n",
        "\n",
        "\n",
        "num_columns = df.shape[1]\n",
        "\n",
        "\n",
        "print(\"\\nNumber of columns:\")\n",
        "print(num_columns)\n"
      ],
      "metadata": {
        "colab": {
          "base_uri": "https://localhost:8080/"
        },
        "id": "v3QtgkTujhvS",
        "outputId": "b7cbc740-3a78-4a07-e7af-ee14b3b189fb"
      },
      "execution_count": 47,
      "outputs": [
        {
          "output_type": "stream",
          "name": "stdout",
          "text": [
            "Original DataFrame:\n",
            "   col1  col2  col3\n",
            "0     1     4     7\n",
            "1     2     5     8\n",
            "2     3     6    12\n",
            "3     4     9     1\n",
            "4     7     5    11\n",
            "\n",
            "Number of columns:\n",
            "3\n"
          ]
        }
      ]
    },
    {
      "cell_type": "markdown",
      "source": [
        "28. Write a Pandas program to get first n records of a DataFrame."
      ],
      "metadata": {
        "id": "y9NHnFZojoTu"
      }
    },
    {
      "cell_type": "code",
      "source": [
        "import pandas as pd\n",
        "\n",
        "df = pd.DataFrame({\n",
        "    'col1': [1, 2, 3, 4, 7, 11],\n",
        "    'col2': [4, 5, 6, 9, 5, 0],\n",
        "    'col3': [7, 5, 8, 12, 1, 11]\n",
        "})\n",
        "\n",
        "print(\"Original DataFrame:\")\n",
        "print(df)\n",
        "\n",
        "first_n_rows = df.head(3)\n",
        "\n",
        "print(\"\\nFirst 3 rows of the said DataFrame:\")\n",
        "print(first_n_rows)\n"
      ],
      "metadata": {
        "colab": {
          "base_uri": "https://localhost:8080/"
        },
        "id": "sVTl1bWcjtS0",
        "outputId": "2e9a50a8-d3fe-4343-ed69-35d09dec18b6"
      },
      "execution_count": 48,
      "outputs": [
        {
          "output_type": "stream",
          "name": "stdout",
          "text": [
            "Original DataFrame:\n",
            "   col1  col2  col3\n",
            "0     1     4     7\n",
            "1     2     5     5\n",
            "2     3     6     8\n",
            "3     4     9    12\n",
            "4     7     5     1\n",
            "5    11     0    11\n",
            "\n",
            "First 3 rows of the said DataFrame:\n",
            "   col1  col2  col3\n",
            "0     1     4     7\n",
            "1     2     5     5\n",
            "2     3     6     8\n"
          ]
        }
      ]
    },
    {
      "cell_type": "markdown",
      "source": [
        "29. Write a Pandas program to get last n records of a DataFrame."
      ],
      "metadata": {
        "id": "Kr1eKp1rkKwY"
      }
    },
    {
      "cell_type": "code",
      "source": [
        "import pandas as pd\n",
        "\n",
        "\n",
        "df = pd.DataFrame({\n",
        "    'col1': [1, 2, 3, 4, 7, 11],\n",
        "    'col2': [4, 5, 6, 9, 5, 0],\n",
        "    'col3': [7, 5, 8, 12, 1, 11]\n",
        "})\n",
        "\n",
        "\n",
        "print(\"Original DataFrame:\")\n",
        "print(df)\n",
        "\n",
        "\n",
        "last_n_rows = df.tail(3)\n",
        "\n",
        "\n",
        "print(\"\\nLast 3 rows of the said DataFrame:\")\n",
        "print(last_n_rows)\n"
      ],
      "metadata": {
        "colab": {
          "base_uri": "https://localhost:8080/"
        },
        "id": "ls3uicDOkVC0",
        "outputId": "775bf47b-9e7b-4892-f2d9-c36abca57c27"
      },
      "execution_count": 49,
      "outputs": [
        {
          "output_type": "stream",
          "name": "stdout",
          "text": [
            "Original DataFrame:\n",
            "   col1  col2  col3\n",
            "0     1     4     7\n",
            "1     2     5     5\n",
            "2     3     6     8\n",
            "3     4     9    12\n",
            "4     7     5     1\n",
            "5    11     0    11\n",
            "\n",
            "Last 3 rows of the said DataFrame:\n",
            "   col1  col2  col3\n",
            "3     4     9    12\n",
            "4     7     5     1\n",
            "5    11     0    11\n"
          ]
        }
      ]
    },
    {
      "cell_type": "markdown",
      "source": [
        "30. Write a Pandas program to get topmost n records within each group of a DataFrame."
      ],
      "metadata": {
        "id": "eT0mLIzTkbyb"
      }
    },
    {
      "cell_type": "code",
      "source": [
        "import pandas as pd\n",
        "\n",
        "\n",
        "df = pd.DataFrame({\n",
        "    'col1': [1, 2, 3, 4, 7, 11],\n",
        "    'col2': [4, 5, 6, 9, 5, 0],\n",
        "    'col3': [7, 5, 8, 12, 1, 11]\n",
        "})\n",
        "\n",
        "df['group'] = ['A', 'A', 'B', 'B', 'C', 'C']\n",
        "\n",
        "\n",
        "print(\"Original DataFrame:\")\n",
        "print(df)\n",
        "\n",
        "\n",
        "top_n_records = df.groupby('group').head(2)\n",
        "\n",
        "\n",
        "print(\"\\nTop 2 records within each group of a DataFrame:\")\n",
        "print(top_n_records)\n"
      ],
      "metadata": {
        "colab": {
          "base_uri": "https://localhost:8080/"
        },
        "id": "KkwZJGKVkc0b",
        "outputId": "db0e5d16-cf04-4c2c-b272-79fde27e41aa"
      },
      "execution_count": 50,
      "outputs": [
        {
          "output_type": "stream",
          "name": "stdout",
          "text": [
            "Original DataFrame:\n",
            "   col1  col2  col3 group\n",
            "0     1     4     7     A\n",
            "1     2     5     5     A\n",
            "2     3     6     8     B\n",
            "3     4     9    12     B\n",
            "4     7     5     1     C\n",
            "5    11     0    11     C\n",
            "\n",
            "Top 2 records within each group of a DataFrame:\n",
            "   col1  col2  col3 group\n",
            "0     1     4     7     A\n",
            "1     2     5     5     A\n",
            "2     3     6     8     B\n",
            "3     4     9    12     B\n",
            "4     7     5     1     C\n",
            "5    11     0    11     C\n"
          ]
        }
      ]
    },
    {
      "cell_type": "markdown",
      "source": [
        "31. Write a Pandas program to add a prefix or suffix to all columns of a given DataFrame."
      ],
      "metadata": {
        "id": "Omje6koOkqH4"
      }
    },
    {
      "cell_type": "code",
      "source": [
        "import pandas as pd\n",
        "\n",
        "df = pd.DataFrame({\n",
        "    'W': [68, 75, 86, 80, 66],\n",
        "    'X': [78, 85, 96, 80, 86],\n",
        "    'Y': [84, 94, 89, 83, 86],\n",
        "    'Z': [86, 97, 96, 72, 83]\n",
        "})\n",
        "\n",
        "print(\"Original DataFrame:\")\n",
        "print(df)\n",
        "\n",
        "\n",
        "df_prefix = df.add_prefix('A_')\n",
        "print(\"\\nAdd prefix:\")\n",
        "print(df_prefix)\n",
        "\n",
        "\n",
        "df_suffix = df.add_suffix('_1')\n",
        "print(\"\\nAdd suffix:\")\n",
        "print(df_suffix)\n"
      ],
      "metadata": {
        "colab": {
          "base_uri": "https://localhost:8080/"
        },
        "id": "rWuOZr_ZkrKo",
        "outputId": "193724c1-1528-40db-bee0-ad7869c8c332"
      },
      "execution_count": 51,
      "outputs": [
        {
          "output_type": "stream",
          "name": "stdout",
          "text": [
            "Original DataFrame:\n",
            "    W   X   Y   Z\n",
            "0  68  78  84  86\n",
            "1  75  85  94  97\n",
            "2  86  96  89  96\n",
            "3  80  80  83  72\n",
            "4  66  86  86  83\n",
            "\n",
            "Add prefix:\n",
            "   A_W  A_X  A_Y  A_Z\n",
            "0   68   78   84   86\n",
            "1   75   85   94   97\n",
            "2   86   96   89   96\n",
            "3   80   80   83   72\n",
            "4   66   86   86   83\n",
            "\n",
            "Add suffix:\n",
            "   W_1  X_1  Y_1  Z_1\n",
            "0   68   78   84   86\n",
            "1   75   85   94   97\n",
            "2   86   96   89   96\n",
            "3   80   80   83   72\n",
            "4   66   86   86   83\n"
          ]
        }
      ]
    },
    {
      "cell_type": "markdown",
      "source": [
        "32. Write a Pandas program to convert continuous values of a column in a given DataFrame to categorical."
      ],
      "metadata": {
        "id": "qEt9r883k4H8"
      }
    },
    {
      "cell_type": "code",
      "source": [
        "import pandas as pd\n",
        "\n",
        "\n",
        "df = pd.DataFrame({\n",
        "    'name': ['Alberto Franco', 'Gino Mcneill', 'Ryan Parkes', 'Eesha Hinton', 'Syed Wharton', 'Kierra Gentry'],\n",
        "    'age': [18, 22, 85, 50, 80, 5]\n",
        "})\n",
        "\n",
        "bins = [0, 12, 60, 100]  # Age ranges: 0-12 (kids), 13-60 (adult), 61-100 (elderly)\n",
        "labels = ['kids', 'adult', 'elderly']\n",
        "\n",
        "df['age_groups'] = pd.cut(df['age'], bins=bins, labels=labels, right=False)\n",
        "\n",
        "print(\"Age group:\")\n",
        "print(df['age_groups'])\n"
      ],
      "metadata": {
        "colab": {
          "base_uri": "https://localhost:8080/"
        },
        "id": "7XJyWnJUlCc_",
        "outputId": "ba5e62c7-10ae-486f-c82c-60dbce483033"
      },
      "execution_count": 52,
      "outputs": [
        {
          "output_type": "stream",
          "name": "stdout",
          "text": [
            "Age group:\n",
            "0      adult\n",
            "1      adult\n",
            "2    elderly\n",
            "3      adult\n",
            "4    elderly\n",
            "5       kids\n",
            "Name: age_groups, dtype: category\n",
            "Categories (3, object): ['kids' < 'adult' < 'elderly']\n"
          ]
        }
      ]
    },
    {
      "cell_type": "markdown",
      "source": [
        "33. Write a Pandas program to append rows to an existing DataFrame and display the combined data."
      ],
      "metadata": {
        "id": "u2jtzpDSlIbe"
      }
    },
    {
      "cell_type": "code",
      "source": [
        "import pandas as pd\n",
        "\n",
        "\n",
        "student_data1 = pd.DataFrame({\n",
        "    'student_id': ['S1', 'S2', 'S3', 'S4', 'S5'],\n",
        "    'name': ['Danniella Fenton', 'Ryder Storey', 'Bryce Jensen', 'Ed Bernal', 'Kwame Morin'],\n",
        "    'marks': [200, 210, 190, 222, 199]\n",
        "})\n",
        "\n",
        "new_row = pd.DataFrame({\n",
        "    'student_id': ['S6'],\n",
        "    'name': ['Scarlette Fisher'],\n",
        "    'marks': [205]\n",
        "})\n",
        "\n",
        "combined_data = pd.concat([student_data1, new_row], ignore_index=True)\n",
        "\n",
        "\n",
        "print(\"Combined DataFrame:\")\n",
        "print(combined_data)\n"
      ],
      "metadata": {
        "colab": {
          "base_uri": "https://localhost:8080/"
        },
        "id": "7Q_JiuVTlQWx",
        "outputId": "f67fe556-88ea-4790-e983-85b6cc8e87cb"
      },
      "execution_count": 53,
      "outputs": [
        {
          "output_type": "stream",
          "name": "stdout",
          "text": [
            "Combined DataFrame:\n",
            "  student_id              name  marks\n",
            "0         S1  Danniella Fenton    200\n",
            "1         S2      Ryder Storey    210\n",
            "2         S3      Bryce Jensen    190\n",
            "3         S4         Ed Bernal    222\n",
            "4         S5       Kwame Morin    199\n",
            "5         S6  Scarlette Fisher    205\n"
          ]
        }
      ]
    },
    {
      "cell_type": "markdown",
      "source": [
        "34. Write a Pandas program to join the two given dataframes along rows and merge with another dataframe along the common column id."
      ],
      "metadata": {
        "id": "DY2oHYuQlWCg"
      }
    },
    {
      "cell_type": "code",
      "source": [
        "import pandas as pd\n",
        "\n",
        "\n",
        "student_data1 = pd.DataFrame({\n",
        "    'student_id': ['S1', 'S2', 'S3', 'S4', 'S5'],\n",
        "    'name': ['Danniella Fenton', 'Ryder Storey', 'Bryce Jensen', 'Ed Bernal', 'Kwame Morin'],\n",
        "    'marks': [200, 210, 190, 222, 199]\n",
        "})\n",
        "\n",
        "student_data2 = pd.DataFrame({\n",
        "    'student_id': ['S4', 'S5', 'S6', 'S7', 'S8'],\n",
        "    'name': ['Scarlette Fisher', 'Carla Williamson', 'Dante Morse', 'Kaiser William', 'Madeeha Preston'],\n",
        "    'marks': [201, 200, 198, 219, 201]\n",
        "})\n",
        "\n",
        "exam_data = pd.DataFrame({\n",
        "    'student_id': ['S1', 'S2', 'S3', 'S4', 'S5', 'S7', 'S8', 'S9', 'S10', 'S11', 'S12', 'S13'],\n",
        "    'exam_id': [23, 45, 12, 67, 21, 55, 33, 14, 56, 83, 88, 12]\n",
        "})\n",
        "\n",
        "\n",
        "combined_students = pd.concat([student_data1, student_data2], ignore_index=True)\n",
        "\n",
        "\n",
        "merged_data = pd.merge(combined_students, exam_data, on='student_id', how='left')\n",
        "\n",
        "\n",
        "print(\"Combined Student Data:\")\n",
        "print(combined_students)\n",
        "print(\"\\nMerged Data with Exam Data:\")\n",
        "print(merged_data)\n"
      ],
      "metadata": {
        "colab": {
          "base_uri": "https://localhost:8080/"
        },
        "id": "MPSdcaRtlaLo",
        "outputId": "4fd5a138-9e70-4e83-b22b-f0de7dc2121a"
      },
      "execution_count": 54,
      "outputs": [
        {
          "output_type": "stream",
          "name": "stdout",
          "text": [
            "Combined Student Data:\n",
            "  student_id              name  marks\n",
            "0         S1  Danniella Fenton    200\n",
            "1         S2      Ryder Storey    210\n",
            "2         S3      Bryce Jensen    190\n",
            "3         S4         Ed Bernal    222\n",
            "4         S5       Kwame Morin    199\n",
            "5         S4  Scarlette Fisher    201\n",
            "6         S5  Carla Williamson    200\n",
            "7         S6       Dante Morse    198\n",
            "8         S7    Kaiser William    219\n",
            "9         S8   Madeeha Preston    201\n",
            "\n",
            "Merged Data with Exam Data:\n",
            "  student_id              name  marks  exam_id\n",
            "0         S1  Danniella Fenton    200     23.0\n",
            "1         S2      Ryder Storey    210     45.0\n",
            "2         S3      Bryce Jensen    190     12.0\n",
            "3         S4         Ed Bernal    222     67.0\n",
            "4         S5       Kwame Morin    199     21.0\n",
            "5         S4  Scarlette Fisher    201     67.0\n",
            "6         S5  Carla Williamson    200     21.0\n",
            "7         S6       Dante Morse    198      NaN\n",
            "8         S7    Kaiser William    219     55.0\n",
            "9         S8   Madeeha Preston    201     33.0\n"
          ]
        }
      ]
    }
  ]
}