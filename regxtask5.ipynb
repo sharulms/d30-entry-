{
  "nbformat": 4,
  "nbformat_minor": 0,
  "metadata": {
    "colab": {
      "provenance": [],
      "authorship_tag": "ABX9TyOOzl2Oudbd554fiZHwM2G/",
      "include_colab_link": true
    },
    "kernelspec": {
      "name": "python3",
      "display_name": "Python 3"
    },
    "language_info": {
      "name": "python"
    }
  },
  "cells": [
    {
      "cell_type": "markdown",
      "metadata": {
        "id": "view-in-github",
        "colab_type": "text"
      },
      "source": [
        "<a href=\"https://colab.research.google.com/github/sharulms/d30-entry-/blob/main/regxtask5.ipynb\" target=\"_parent\"><img src=\"https://colab.research.google.com/assets/colab-badge.svg\" alt=\"Open In Colab\"/></a>"
      ]
    },
    {
      "cell_type": "markdown",
      "source": [
        "1.Write a Python program to check that a string contains only a certain set of characters (in this case a-z, A-Z and 0-9)."
      ],
      "metadata": {
        "id": "QKzKdv7uU2nC"
      }
    },
    {
      "cell_type": "code",
      "execution_count": null,
      "metadata": {
        "colab": {
          "base_uri": "https://localhost:8080/"
        },
        "id": "5eXO6SdeUsN3",
        "outputId": "24f0d60f-78e5-4c53-b77c-8d59a73a7694"
      },
      "outputs": [
        {
          "output_type": "stream",
          "name": "stdout",
          "text": [
            "Enter a string to check: =0--\n",
            "The string contains other characters besides alphanumeric.\n"
          ]
        }
      ],
      "source": [
        "import re\n",
        "\n",
        "def check_characters(input_string):\n",
        "    pattern = re.compile(r'^[a-zA-Z0-9]+$')\n",
        "    if pattern.match(input_string):\n",
        "        return True\n",
        "    else:\n",
        "        return False\n",
        "input_string = input(\"Enter a string to check: \")\n",
        "if check_characters(input_string):\n",
        "    print(\"The string contains only alphanumeric characters.\")\n",
        "else:\n",
        "    print(\"The string contains other characters besides alphanumeric.\")"
      ]
    },
    {
      "cell_type": "markdown",
      "source": [],
      "metadata": {
        "id": "8e6R2ElseZ-7"
      }
    },
    {
      "cell_type": "markdown",
      "source": [
        "2. Write a Python program that matches a string that has an a followed by zero or more b's.\n",
        "\n"
      ],
      "metadata": {
        "id": "qdjwe0xYehpu"
      }
    },
    {
      "cell_type": "code",
      "source": [
        "import re\n",
        "\n",
        "def match_string(pattern, string):\n",
        "    if re.fullmatch(pattern, string):\n",
        "        return True\n",
        "    else:\n",
        "        return False\n",
        "\n",
        "pattern = 'ab*'\n",
        "strings_to_test = [\"a\", \"ab\", \"abb\", \"abbb\", \"ac\", \"abc\", \"aab\", \"abbcd\"]\n",
        "\n",
        "for string in strings_to_test:\n",
        "    if match_string(pattern, string):\n",
        "        print(f\"'{string}' matches the pattern '{pattern}'\")\n",
        "    else:\n",
        "        print(f\"'{string}' does not match the pattern '{pattern}'\")\n"
      ],
      "metadata": {
        "colab": {
          "base_uri": "https://localhost:8080/"
        },
        "id": "KMoznDageiKG",
        "outputId": "565b1bbd-fac7-45fe-f9f8-64c9128991e4"
      },
      "execution_count": null,
      "outputs": [
        {
          "output_type": "stream",
          "name": "stdout",
          "text": [
            "'a' matches the pattern 'ab*'\n",
            "'ab' matches the pattern 'ab*'\n",
            "'abb' matches the pattern 'ab*'\n",
            "'abbb' matches the pattern 'ab*'\n",
            "'ac' does not match the pattern 'ab*'\n",
            "'abc' does not match the pattern 'ab*'\n",
            "'aab' does not match the pattern 'ab*'\n",
            "'abbcd' does not match the pattern 'ab*'\n"
          ]
        }
      ]
    },
    {
      "cell_type": "markdown",
      "source": [
        "3.Replace only the first occurrence of 5 with five for the given string\n",
        "\n"
      ],
      "metadata": {
        "id": "rtdxRzltcRtS"
      }
    },
    {
      "cell_type": "code",
      "source": [
        "def replace_first_occurrence(string, old_substring, new_substring):\n",
        "    return string.replace(old_substring, new_substring, 1)\n",
        "\n",
        "string = \"The 5th alphabet is E , and it has 5.\"\n",
        "\n",
        "new_string = replace_first_occurrence(string, '5', 'five')\n",
        "\n",
        "print(new_string)\n"
      ],
      "metadata": {
        "colab": {
          "base_uri": "https://localhost:8080/"
        },
        "id": "K_8-AWQyfisT",
        "outputId": "8b69f7bb-0117-4f2e-8230-d0b9d30e18e0"
      },
      "execution_count": 1,
      "outputs": [
        {
          "output_type": "stream",
          "name": "stdout",
          "text": [
            "The fiveth alphabet is E , and it has 5.\n"
          ]
        }
      ]
    },
    {
      "cell_type": "markdown",
      "source": [
        "4.Write a Python program that matches a string that has an a followed by three 'b'."
      ],
      "metadata": {
        "id": "ePcxPhdCfdJM"
      }
    },
    {
      "cell_type": "code",
      "source": [
        "import re\n",
        "\n",
        "def match_string(text):\n",
        "    pattern = r'a.*bbb'\n",
        "    if re.search(pattern, text):\n",
        "        return True\n",
        "    else:\n",
        "        return False\n",
        "\n",
        "test_string = \"This is a test string with abbba in it.\"\n",
        "if match_string(test_string):\n",
        "    print(\"String matches the pattern.\")\n",
        "else:\n",
        "    print(\"String does not match the pattern.\")\n"
      ],
      "metadata": {
        "colab": {
          "base_uri": "https://localhost:8080/"
        },
        "id": "c6gH2QEf0rbG",
        "outputId": "d98e706b-6763-4726-f946-9a594c35703b"
      },
      "execution_count": 3,
      "outputs": [
        {
          "output_type": "stream",
          "name": "stdout",
          "text": [
            "String matches the pattern.\n"
          ]
        }
      ]
    },
    {
      "cell_type": "markdown",
      "source": [
        "5.Write a Python program that matches a string that has an 'a' followed by anything ending in 'b'.\n"
      ],
      "metadata": {
        "id": "k55R-hE41GJw"
      }
    },
    {
      "cell_type": "code",
      "source": [
        "import re\n",
        "\n",
        "def match_string(text):\n",
        "    pattern = r'a.*bb'\n",
        "    if re.search(pattern, text):\n",
        "        return True\n",
        "    else:\n",
        "        return False\n",
        "\n",
        "test_string = \"This is a test string with a word ending in b.\"\n",
        "if match_string(test_string):\n",
        "    print(\"String matches the pattern.\")\n",
        "else:\n",
        "    print(\"String does not match the pattern.\")\n"
      ],
      "metadata": {
        "colab": {
          "base_uri": "https://localhost:8080/"
        },
        "id": "pG6XOQx91Hse",
        "outputId": "06d451ba-0e7e-4259-8230-e4d9f9e9dae3"
      },
      "execution_count": 9,
      "outputs": [
        {
          "output_type": "stream",
          "name": "stdout",
          "text": [
            "String does not match the pattern.\n"
          ]
        }
      ]
    },
    {
      "cell_type": "markdown",
      "source": [
        "6.Write a Python program to search for numbers (0-9) of length between 1 and 3 in a given string."
      ],
      "metadata": {
        "id": "5tdX9zUW1-na"
      }
    },
    {
      "cell_type": "code",
      "source": [
        "import re\n",
        "\n",
        "def find_numbers(text):\n",
        "    pattern = r'\\b\\d{1,3}\\b'\n",
        "    return re.findall(pattern, text)\n",
        "\n",
        "test_string = \"This is a test string with numbers 11,12,13, 345, and 6789.\"\n",
        "numbers_found = find_numbers(test_string)\n",
        "print(\"Numbers found:\", numbers_found)\n"
      ],
      "metadata": {
        "colab": {
          "base_uri": "https://localhost:8080/"
        },
        "id": "p2SnNUm-2AQM",
        "outputId": "2f8f92d6-4a82-4842-87a9-f377065d1640"
      },
      "execution_count": 11,
      "outputs": [
        {
          "output_type": "stream",
          "name": "stdout",
          "text": [
            "Numbers found: ['11', '12', '13', '345']\n"
          ]
        }
      ]
    },
    {
      "cell_type": "markdown",
      "source": [
        "7.Write a Python program to search for literal strings within a string.\n",
        "Sample text : 'The quick brown fox jumps over the lazy dog.'\n",
        "Searched words : 'fox', 'dog', 'horse'"
      ],
      "metadata": {
        "id": "SeMWKgUh2mUX"
      }
    },
    {
      "cell_type": "code",
      "source": [
        "def search_words(text, words):\n",
        "    found_words = []\n",
        "    for word in words:\n",
        "        if word in text:\n",
        "            found_words.append(word)\n",
        "    return found_words\n",
        "\n",
        "sample_text = 'The quick brown fox jumps over the lazy dog.'\n",
        "\n",
        "searched_words = ['fox', 'dog', 'horse']\n",
        "\n",
        "found_words = search_words(sample_text, searched_words)\n",
        "\n",
        "print(\"Found words:\", found_words)\n"
      ],
      "metadata": {
        "colab": {
          "base_uri": "https://localhost:8080/"
        },
        "id": "xstDN1832qV-",
        "outputId": "011f7811-ef5b-41c0-a5ee-65207ba022e7"
      },
      "execution_count": 13,
      "outputs": [
        {
          "output_type": "stream",
          "name": "stdout",
          "text": [
            "Found words: ['fox', 'dog']\n"
          ]
        }
      ]
    },
    {
      "cell_type": "markdown",
      "source": [
        "8.Write a Python program to search for a literal string in a string and also find the location within the original string where the pattern occurs.\n",
        "Sample text : 'The quick brown fox jumps over the lazy dog.'\n",
        "Searched words : 'fox'"
      ],
      "metadata": {
        "id": "9f1e58kE3nvQ"
      }
    },
    {
      "cell_type": "code",
      "source": [
        "def search_word_with_location(text, word):\n",
        "    index = text.find(word)\n",
        "    if index != -1:\n",
        "        return index\n",
        "    else:\n",
        "        return None\n",
        "\n",
        "sample_text = 'The quick brown fox jumps over the lazy dog.'\n",
        "\n",
        "searched_word = 'fox'\n",
        "\n",
        "location = search_word_with_location(sample_text, searched_word)\n",
        "\n",
        "if location is not None:\n",
        "    print(f\"'{searched_word}' found at index:\", location)\n",
        "else:\n",
        "    print(f\"'{searched_word}' not found in the text.\")\n"
      ],
      "metadata": {
        "colab": {
          "base_uri": "https://localhost:8080/"
        },
        "id": "24C_zlBp3rnA",
        "outputId": "9a3ce21a-9e3e-470d-d9fd-e95bb522b20d"
      },
      "execution_count": 15,
      "outputs": [
        {
          "output_type": "stream",
          "name": "stdout",
          "text": [
            "'fox' found at index: 16\n"
          ]
        }
      ]
    },
    {
      "cell_type": "markdown",
      "source": [
        "9.Write a Python program to extract year, month and date from an URL"
      ],
      "metadata": {
        "id": "6EOlYKLe4DPI"
      }
    },
    {
      "cell_type": "code",
      "source": [
        "import re\n",
        "\n",
        "def extract_date_from_url(url):\n",
        "    pattern = r'/(\\d{4})/(\\d{1,2})/(\\d{1,2})/'\n",
        "    match = re.search(pattern, url)\n",
        "    if match:\n",
        "        year = int(match.group(1))\n",
        "        month = int(match.group(2))\n",
        "        day = int(match.group(3))\n",
        "        return year, month, day\n",
        "    else:\n",
        "        return None\n",
        "\n",
        "# Test the function\n",
        "url = \"https://example.com/2024/5/2/news/article\"\n",
        "date = extract_date_from_url(url)\n",
        "if date:\n",
        "    print(\"Year:\", date[0])\n",
        "    print(\"Month:\", date[1])\n",
        "    print(\"Day:\", date[2])\n",
        "else:\n",
        "    print(\"No date found in the URL.\")\n"
      ],
      "metadata": {
        "colab": {
          "base_uri": "https://localhost:8080/"
        },
        "id": "foqGmXRP4E0a",
        "outputId": "3f4b7d6e-c815-447e-8b5d-baa6defe4f97"
      },
      "execution_count": 17,
      "outputs": [
        {
          "output_type": "stream",
          "name": "stdout",
          "text": [
            "Year: 2024\n",
            "Month: 5\n",
            "Day: 2\n"
          ]
        }
      ]
    },
    {
      "cell_type": "markdown",
      "source": [
        "10.Write a Python program to find URLs in a string"
      ],
      "metadata": {
        "id": "gi0pwe084bhS"
      }
    },
    {
      "cell_type": "code",
      "source": [
        "import re\n",
        "\n",
        "def find_urls(text):\n",
        "    pattern = r'https?://(?:www\\.)?\\w+\\.\\w+(?:/\\S*)?'\n",
        "    return re.findall(pattern, text)\n",
        "\n",
        "sample_text = \"Here are some URLs: https://www.google.com, http://google.com, and https://collab.com/opencollab\"\n",
        "urls_found = find_urls(sample_text)\n",
        "print(\"URLs found:\", urls_found)\n"
      ],
      "metadata": {
        "colab": {
          "base_uri": "https://localhost:8080/"
        },
        "id": "696T0-EP4dcS",
        "outputId": "cf336eb7-e123-4c56-85d9-87c7d1f0b571"
      },
      "execution_count": 18,
      "outputs": [
        {
          "output_type": "stream",
          "name": "stdout",
          "text": [
            "URLs found: ['https://www.google.com', 'http://google.com', 'https://collab.com/opencollab']\n"
          ]
        }
      ]
    },
    {
      "cell_type": "markdown",
      "source": [
        "11.Write a Python program to remove the parenthesis area in a string.\\\n",
        "Sample data : [\"example (.com)\", \"w3resource\", \"github (.com)\", \"stackoverflow (.com)\"]\n",
        "Expected Output:\n",
        "example\n",
        "w3resource\n",
        "github\n",
        "stackoverflow."
      ],
      "metadata": {
        "id": "QPuYVroq5Axw"
      }
    },
    {
      "cell_type": "code",
      "source": [
        "import re\n",
        "\n",
        "def remove_parenthesis_area(strings):\n",
        "    result = []\n",
        "    pattern = r'\\s*\\([^)]*\\)'\n",
        "    for string in strings:\n",
        "        result.append(re.sub(pattern, '', string))\n",
        "    return result\n",
        "\n",
        "sample_data = [\"example (.com)\", \"w3resource\", \"github (.com)\", \"stackoverflow (.com)\"]\n",
        "\n",
        "# Remove\n",
        "output = remove_parenthesis_area(sample_data)\n",
        "\n",
        "for item in output:\n",
        "    print(item)\n"
      ],
      "metadata": {
        "colab": {
          "base_uri": "https://localhost:8080/"
        },
        "id": "wpatAQ1F5DZu",
        "outputId": "717b7a2e-bf74-4861-eae5-146acb8f4051"
      },
      "execution_count": 19,
      "outputs": [
        {
          "output_type": "stream",
          "name": "stdout",
          "text": [
            "example\n",
            "w3resource\n",
            "github\n",
            "stackoverflow\n"
          ]
        }
      ]
    },
    {
      "cell_type": "markdown",
      "source": [
        "12.Write a Python program to concatenate the consecutive numbers in a given string.\n",
        "Original string:\n",
        "Enter at 1 20 Kearny Street. The security desk can direct you to floor 1 6. Please have your identification ready.\n",
        "\n",
        "After concatenating the consecutive numbers in the said string:\n",
        "Enter at 120 Kearny Street. The security desk can direct you to floor 16. Please have your identification ready."
      ],
      "metadata": {
        "id": "fG5IUEyv5XbU"
      }
    },
    {
      "cell_type": "code",
      "source": [
        "import re\n",
        "\n",
        "def concatenate_consecutive_numbers(text):\n",
        "    result = re.sub(r'(\\b\\d+)\\s+(\\d+\\b)', lambda x: x.group(1) + x.group(2), text)\n",
        "    return result\n",
        "\n",
        "original_string = \"Enter at 1 20 Kearny Street. The security desk can direct you to floor 1 6. Please have your identification ready.\"\n",
        "\n",
        "# Concatenate\n",
        "concatenated_string = concatenate_consecutive_numbers(original_string)\n",
        "\n",
        "print(\"Original string:\")\n",
        "print(original_string)\n",
        "print(\"\\nAfter concatenating the consecutive numbers in the said string:\")\n",
        "print(concatenated_string)\n"
      ],
      "metadata": {
        "colab": {
          "base_uri": "https://localhost:8080/"
        },
        "id": "8wxYUi1A5cyN",
        "outputId": "9bd005ef-8521-48e2-9fd7-31d17b6f2d61"
      },
      "execution_count": 20,
      "outputs": [
        {
          "output_type": "stream",
          "name": "stdout",
          "text": [
            "Original string:\n",
            "Enter at 1 20 Kearny Street. The security desk can direct you to floor 1 6. Please have your identification ready.\n",
            "\n",
            "After concatenating the consecutive numbers in the said string:\n",
            "Enter at 120 Kearny Street. The security desk can direct you to floor 16. Please have your identification ready.\n"
          ]
        }
      ]
    },
    {
      "cell_type": "code",
      "source": [],
      "metadata": {
        "id": "c_G08uqi41yh"
      },
      "execution_count": null,
      "outputs": []
    }
  ]
}