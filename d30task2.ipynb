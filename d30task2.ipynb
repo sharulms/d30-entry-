{
  "nbformat": 4,
  "nbformat_minor": 0,
  "metadata": {
    "colab": {
      "provenance": [],
      "authorship_tag": "ABX9TyMldFogRNLnSJtRABbtKMGB",
      "include_colab_link": true
    },
    "kernelspec": {
      "name": "python3",
      "display_name": "Python 3"
    },
    "language_info": {
      "name": "python"
    }
  },
  "cells": [
    {
      "cell_type": "markdown",
      "metadata": {
        "id": "view-in-github",
        "colab_type": "text"
      },
      "source": [
        "<a href=\"https://colab.research.google.com/github/sharulms/d30-entry-/blob/main/d30task2.ipynb\" target=\"_parent\"><img src=\"https://colab.research.google.com/assets/colab-badge.svg\" alt=\"Open In Colab\"/></a>"
      ]
    },
    {
      "cell_type": "code",
      "execution_count": null,
      "metadata": {
        "id": "gc83Ls_hFLoG"
      },
      "outputs": [],
      "source": []
    },
    {
      "cell_type": "markdown",
      "source": [
        "1.Write Python code that prints your name, student number and email address.  "
      ],
      "metadata": {
        "id": "V8ehZ9rGFXE0"
      }
    },
    {
      "cell_type": "code",
      "source": [
        "name = input(\"enter the name:\")\n",
        "student_number = \"12345\"\n",
        "email = \"name@gamil.com\"\n",
        "\n",
        "print(\"Name:\", name)\n",
        "print(\"Student Number:\", student_number)\n",
        "print(\"Email Address:\", email)\n"
      ],
      "metadata": {
        "colab": {
          "base_uri": "https://localhost:8080/"
        },
        "id": "LqLViCoxFher",
        "outputId": "0b33fd48-2c7e-41d2-fe97-e4edebbaa9c9"
      },
      "execution_count": 3,
      "outputs": [
        {
          "output_type": "stream",
          "name": "stdout",
          "text": [
            "enter the name:rahul\n",
            "Name: rahul\n",
            "Student Number: 12345\n",
            "Email Address: name@gamil.com\n"
          ]
        }
      ]
    },
    {
      "cell_type": "markdown",
      "source": [
        "2.Write Python code that prints your name, student number and email address using escape sequences.\n"
      ],
      "metadata": {
        "id": "G4aZG6t8HobX"
      }
    },
    {
      "cell_type": "code",
      "source": [
        "print(\"Name: bob\\nStudent Number: 5689\\nEmail Address: bob@gmail.com\")\n"
      ],
      "metadata": {
        "colab": {
          "base_uri": "https://localhost:8080/"
        },
        "id": "xpMmxVhrH5dT",
        "outputId": "bfe6f1ee-4a23-4fd6-9c82-7528278d3621"
      },
      "execution_count": 5,
      "outputs": [
        {
          "output_type": "stream",
          "name": "stdout",
          "text": [
            "Name: bob\n",
            "Student Number: 5689\n",
            "Email Address: bob@gmail.com\n"
          ]
        }
      ]
    },
    {
      "cell_type": "markdown",
      "source": [
        "3.Write Python code that add, subtract, multiply and divide the two numbers. You can use the two numbers 14 and 7"
      ],
      "metadata": {
        "id": "BK-MPcPrIcJ3"
      }
    },
    {
      "cell_type": "code",
      "source": [
        "#let numbers be 14 & 7\n",
        "num1 = 14\n",
        "num2 = 7\n",
        "\n",
        "\n",
        "add = num1+num2\n",
        "print(\"Addition result:\", add)\n",
        "\n",
        "\n",
        "subtract = num1-num2\n",
        "print(\"Subtraction result:\", subtract)\n",
        "\n",
        "\n",
        "multiply = num1*num2\n",
        "print(\"Multiplication result:\", multiply)\n",
        "\n",
        "\n",
        "division = num1/num2\n",
        "print(\"Division result:\", division)\n"
      ],
      "metadata": {
        "colab": {
          "base_uri": "https://localhost:8080/"
        },
        "id": "PsyL1FkjH510",
        "outputId": "8aaadc0d-7235-4f95-b1f6-8186da0fcc77"
      },
      "execution_count": 10,
      "outputs": [
        {
          "output_type": "stream",
          "name": "stdout",
          "text": [
            "Addition result: 21\n",
            "Subtraction result: 7\n",
            "Multiplication result: 98\n",
            "Division result: 2.0\n"
          ]
        }
      ]
    },
    {
      "cell_type": "markdown",
      "source": [
        "4.Write Python code that displays the numbers from 1 to 5 as steps."
      ],
      "metadata": {
        "id": "rifUkHilJj8B"
      }
    },
    {
      "cell_type": "code",
      "source": [
        "for i in range(1, 6):\n",
        "    print( i)\n"
      ],
      "metadata": {
        "colab": {
          "base_uri": "https://localhost:8080/"
        },
        "id": "IZDKo1xRJpgS",
        "outputId": "e772a887-9f56-498d-b87d-87e10072f5b2"
      },
      "execution_count": 12,
      "outputs": [
        {
          "output_type": "stream",
          "name": "stdout",
          "text": [
            "1\n",
            "2\n",
            "3\n",
            "4\n",
            "5\n"
          ]
        }
      ]
    },
    {
      "cell_type": "markdown",
      "source": [
        "5.Write Python code that outputs the following sentence (including the quotation marks and line break) to the screen:\n",
        "An example runs of the program:  \n",
        "\"SDK\" stands for \"Software Development Kit\", whereas\n",
        "\"IDE\" stands for \"Integrated Development Environment\"."
      ],
      "metadata": {
        "id": "rpvektBQKDrc"
      }
    },
    {
      "cell_type": "code",
      "source": [
        "print(\"SDK\\\" stands for \\\"Software Development Kit\\\", whereas\\n\\\"IDE\\\" stands for \\\"Integrated Development Environment\")\n"
      ],
      "metadata": {
        "colab": {
          "base_uri": "https://localhost:8080/"
        },
        "id": "HSl3p2V5KGuJ",
        "outputId": "fdf485ef-f629-43d0-ca85-adacf6dcc91e"
      },
      "execution_count": 15,
      "outputs": [
        {
          "output_type": "stream",
          "name": "stdout",
          "text": [
            "SDK\" stands for \"Software Development Kit\", whereas\n",
            "\"IDE\" stands for \"Integrated Development Environment\n"
          ]
        }
      ]
    },
    {
      "cell_type": "markdown",
      "source": [
        "6.Practice and check the output"
      ],
      "metadata": {
        "id": "nTN6ylKoKxU7"
      }
    },
    {
      "cell_type": "code",
      "source": [
        "print(\"python is an \\\"awesome\\\" language.\")\n",
        "print(\"python\\n\\t2024\")\n",
        "print('I\\'m from Entri.\\b')\n",
        "print(\"d30\")\n",
        "print(\"\\x65\")\n",
        "print(\"Entri\", \"2024\", sep=\"\\n\")\n",
        "print(\"Entri\", \"2024\", sep=\"\\b\")\n",
        "print(\"Entri\", \"2024\", sep=\"*\", end=\"\\b\\b\\b\\b\")"
      ],
      "metadata": {
        "colab": {
          "base_uri": "https://localhost:8080/"
        },
        "id": "EOe02RylK7kO",
        "outputId": "fe1b4794-37e8-45dd-f8b7-5c31412e4610"
      },
      "execution_count": 19,
      "outputs": [
        {
          "output_type": "stream",
          "name": "stdout",
          "text": [
            "python is an \"awesome\" language.\n",
            "python\n",
            "\t2024\n",
            "I'm from Entri.\b\n",
            "d30\n",
            "e\n",
            "Entri\n",
            "2024\n",
            "Entri\b2024\n",
            "Entri*2024\b\b\b\b"
          ]
        }
      ]
    },
    {
      "cell_type": "markdown",
      "source": [
        "\n",
        "7.Define the variables below. Print the types of each variable. What is the sum of your variables? (Hint: use a type conversion function.) What datatype is the sum?\n",
        "num=23\n",
        "textnum=\"57\"\n",
        "decimal=98.3"
      ],
      "metadata": {
        "id": "Pme7RvgJKmWE"
      }
    },
    {
      "cell_type": "code",
      "source": [
        "\n",
        "num = 23\n",
        "textnum = \"57\"\n",
        "decimal = 98.3\n",
        "\n",
        "\n",
        "print(\"Type of num:\", type(num))\n",
        "print(\"Type of textnum:\", type(textnum))\n",
        "print(\"Type of decimal:\", type(decimal))\n",
        "\n",
        "\n",
        "sum=num+int(textnum)+decimal\n",
        "print(\"Sum of variables:\", sum)\n",
        "\n",
        "print(\"Datatype of sum:\", type(sum))\n"
      ],
      "metadata": {
        "colab": {
          "base_uri": "https://localhost:8080/"
        },
        "id": "64dAZ5mCLvKe",
        "outputId": "5170fbd1-806a-4cfb-b8e3-60c592e12200"
      },
      "execution_count": 20,
      "outputs": [
        {
          "output_type": "stream",
          "name": "stdout",
          "text": [
            "Type of num: <class 'int'>\n",
            "Type of textnum: <class 'str'>\n",
            "Type of decimal: <class 'float'>\n",
            "Sum of variables: 178.3\n",
            "Datatype of sum: <class 'float'>\n"
          ]
        }
      ]
    },
    {
      "cell_type": "markdown",
      "source": [
        "8.calculate the number of minutes in a year using variables for each unit of time. print a statement that describes what your code does also. Create three variables to store no of days in a year, minute in a hour, hours in a day, then calculate the total minutes in a year and print the values\n",
        "(hint) total number of minutes in an year =No.of days in an year * Hours in a day * Minutes in an hour"
      ],
      "metadata": {
        "id": "9GDNZEM2KuYk"
      }
    },
    {
      "cell_type": "code",
      "source": [
        "\n",
        "print(\"This code calculates the total number of minutes in a year.\")\n",
        "\n",
        "\n",
        "(days_in_year) = 365\n",
        "(hours_in_day) = 24\n",
        "(minutes_in_hour) = 60\n",
        "\n",
        "total_minutes_in_year = (days_in_year) * (hours_in_day) * (minutes_in_hour)\n",
        "\n",
        "print(\"Number of days in a year:\", days_in_year)\n",
        "print(\"Number of hours in a day:\", hours_in_day)\n",
        "print(\"Number of minutes in an hour:\", minutes_in_hour)\n",
        "print(\"Total number of minutes in a year:\", total_minutes_in_year)\n"
      ],
      "metadata": {
        "colab": {
          "base_uri": "https://localhost:8080/"
        },
        "id": "2dJYb-aFMcT5",
        "outputId": "17d10513-0f69-42ee-ce22-1dc3afe5916e"
      },
      "execution_count": 27,
      "outputs": [
        {
          "output_type": "stream",
          "name": "stdout",
          "text": [
            "This code calculates the total number of minutes in a year.\n",
            "Number of days in a year: 365\n",
            "Number of hours in a day: 24\n",
            "Number of minutes in an hour: 60\n",
            "Total number of minutes in a year: 525600\n"
          ]
        }
      ]
    },
    {
      "cell_type": "markdown",
      "source": [
        "9.Write Python code that asks the user to enter his/her name and then output/prints his/her name with a greeting."
      ],
      "metadata": {
        "id": "cH7gMWMEOjY0"
      }
    },
    {
      "cell_type": "code",
      "source": [
        "\n",
        "name = input(\"Please enter your name: \")\n",
        "print(\"Hello,\", name + \"\\f welcome to Python programming \")\n"
      ],
      "metadata": {
        "colab": {
          "base_uri": "https://localhost:8080/"
        },
        "id": "RHdYgmxPOsSm",
        "outputId": "802bb6f2-1d7b-4c17-fe7a-41a34d13c6af"
      },
      "execution_count": 35,
      "outputs": [
        {
          "output_type": "stream",
          "name": "stdout",
          "text": [
            "Please enter your name: Tony\n",
            "Hello, Tony\f welcome to Python programming \n"
          ]
        }
      ]
    },
    {
      "cell_type": "markdown",
      "source": [
        "10.Name your file: PoundsToDollars.py\n",
        "Write a program that asks the user to enter an amount in pounds (£) and the program calculates and converts an amount in dollar ($)"
      ],
      "metadata": {
        "id": "3ujJuNd0P1eG"
      }
    },
    {
      "cell_type": "code",
      "source": [
        "\n",
        "pounds = float(input(\"Enter an amount in pounds (£): \"))\n",
        "convert = 1.41\n",
        "dollars = pounds * convert\n",
        "print(\"pounds entered in dollars are:\", dollars)\n"
      ],
      "metadata": {
        "colab": {
          "base_uri": "https://localhost:8080/"
        },
        "id": "tvEqTAJeP-y-",
        "outputId": "5e321ca1-7a81-483a-d2d4-e97c677449b4"
      },
      "execution_count": 38,
      "outputs": [
        {
          "output_type": "stream",
          "name": "stdout",
          "text": [
            "Enter an amount in pounds (£): 100\n",
            "pounds entered in dollars are: 141.0\n"
          ]
        }
      ]
    }
  ]
}