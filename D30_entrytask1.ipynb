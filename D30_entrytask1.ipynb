{
  "nbformat": 4,
  "nbformat_minor": 0,
  "metadata": {
    "colab": {
      "provenance": [],
      "authorship_tag": "ABX9TyO8bzh10t6rlhWhVop5zz1S",
      "include_colab_link": true
    },
    "kernelspec": {
      "name": "python3",
      "display_name": "Python 3"
    },
    "language_info": {
      "name": "python"
    }
  },
  "cells": [
    {
      "cell_type": "markdown",
      "metadata": {
        "id": "view-in-github",
        "colab_type": "text"
      },
      "source": [
        "<a href=\"https://colab.research.google.com/github/sharulms/d30-entry-/blob/main/D30_entrytask1.ipynb\" target=\"_parent\"><img src=\"https://colab.research.google.com/assets/colab-badge.svg\" alt=\"Open In Colab\"/></a>"
      ]
    },
    {
      "cell_type": "markdown",
      "source": [
        "Write a Python program to check the user input is odd,even or zero"
      ],
      "metadata": {
        "id": "rfSlp7OZ3DYU"
      }
    },
    {
      "cell_type": "code",
      "source": [
        "num=int(input(\"Enter the number:\"))\n",
        "if (num==0):\n",
        "  print(\"number is zero\")\n",
        "elif (num%2==0):\n",
        "  print(\"number is even\")\n",
        "else:\n",
        "  print(\"number is odd\")\n",
        "\n",
        "\n"
      ],
      "metadata": {
        "id": "LV2fCwSSVmvY",
        "colab": {
          "base_uri": "https://localhost:8080/"
        },
        "outputId": "688e37b7-ca27-4327-ea18-b62e7963efb1"
      },
      "execution_count": 5,
      "outputs": [
        {
          "output_type": "stream",
          "name": "stdout",
          "text": [
            "Enter the number:6\n",
            "number is even\n"
          ]
        }
      ]
    },
    {
      "cell_type": "markdown",
      "source": [
        "Find the numbers divisible 7 & multiples of 5"
      ],
      "metadata": {
        "id": "eBK1x9r-2uMP"
      }
    },
    {
      "cell_type": "code",
      "source": [
        "num1=int(input(\"Enter the first value:\"))\n",
        "num2=int(input(\"Enter the second value:\"))\n",
        "for num in range(num1,num2):\n",
        "  if(num%7==0 and num%5==0):\n",
        "    print(num)\n",
        "\n"
      ],
      "metadata": {
        "colab": {
          "base_uri": "https://localhost:8080/"
        },
        "id": "OURDMFMuIs3A",
        "outputId": "91443ca6-20ab-4303-c9d5-76d17ef9cf38"
      },
      "execution_count": null,
      "outputs": [
        {
          "output_type": "stream",
          "name": "stdout",
          "text": [
            "Enter the first value:1\n",
            "Enter the second value:500\n",
            "35\n",
            "70\n",
            "105\n",
            "140\n",
            "175\n",
            "210\n",
            "245\n",
            "280\n",
            "315\n",
            "350\n",
            "385\n",
            "420\n",
            "455\n",
            "490\n"
          ]
        }
      ]
    },
    {
      "cell_type": "markdown",
      "source": [
        "Print decimal part of an input number, if decimal part is zero,print the string 'integer'"
      ],
      "metadata": {
        "id": "2JzmXtG73RzL"
      }
    },
    {
      "cell_type": "code",
      "source": [
        "\n",
        "num=float(input(\"Enter the number:\"))\n",
        "a=num-int(num)\n",
        "if(a==0):\n",
        "  print(\"Integer\")\n",
        "else:\n",
        "  print(f\"The decimal part is:{a}\")"
      ],
      "metadata": {
        "id": "JTPaqvKqIux4",
        "colab": {
          "base_uri": "https://localhost:8080/"
        },
        "outputId": "e1539d69-ec41-470b-f767-69250548437f"
      },
      "execution_count": 4,
      "outputs": [
        {
          "output_type": "stream",
          "name": "stdout",
          "text": [
            "Enter the number:85.88\n",
            "The decimal part is:0.8799999999999955\n"
          ]
        }
      ]
    },
    {
      "cell_type": "code",
      "source": [],
      "metadata": {
        "id": "vW4unBPI4OQS"
      },
      "execution_count": null,
      "outputs": []
    },
    {
      "cell_type": "code",
      "source": [],
      "metadata": {
        "id": "H7c6yoNgi8l0"
      },
      "execution_count": null,
      "outputs": []
    }
  ]
}